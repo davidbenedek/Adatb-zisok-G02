{
    "metadata": {
        "kernelspec": {
            "name": "SQL",
            "display_name": "SQL",
            "language": "sql"
        },
        "language_info": {
            "name": "sql",
            "version": ""
        }
    },
    "nbformat_minor": 2,
    "nbformat": 4,
    "cells": [
        {
            "cell_type": "markdown",
            "source": [
                "### **Összes rendelés száma, legkorábbi és legkésőbbi rendelés dátuma**"
            ],
            "metadata": {
                "azdata_cell_guid": "36f6138e-9977-4740-9664-d757bbbb1097"
            },
            "attachments": {}
        },
        {
            "cell_type": "code",
            "source": [
                "SELECT \r\n",
                "    COUNT(*) AS 'Összes rendelés száma', \r\n",
                "    MIN(REND_DATUM) AS 'Legkorábbi rendelés dátuma', \r\n",
                "    MAX(REND_DATUM) AS 'Legkésőbbi rendelés dátuma'\r\n",
                "FROM RENDELES"
            ],
            "metadata": {
                "azdata_cell_guid": "69304554-3fa8-4f83-8209-3497da87bc11",
                "language": "sql"
            },
            "outputs": [
                {
                    "output_type": "display_data",
                    "data": {
                        "text/html": "(1 row affected)"
                    },
                    "metadata": {}
                },
                {
                    "output_type": "display_data",
                    "data": {
                        "text/html": "Total execution time: 00:00:00.044"
                    },
                    "metadata": {}
                },
                {
                    "output_type": "execute_result",
                    "metadata": {},
                    "execution_count": 4,
                    "data": {
                        "application/vnd.dataresource+json": {
                            "schema": {
                                "fields": [
                                    {
                                        "name": "Összes rendelés száma"
                                    },
                                    {
                                        "name": "Legkorábbi rendelés dátuma"
                                    },
                                    {
                                        "name": "Legkésőbbi rendelés dátuma"
                                    }
                                ]
                            },
                            "data": [
                                {
                                    "Összes rendelés száma": "28085",
                                    "Legkorábbi rendelés dátuma": "2015-05-01",
                                    "Legkésőbbi rendelés dátuma": "2017-04-01"
                                }
                            ]
                        },
                        "text/html": [
                            "<table>",
                            "<tr><th>Összes rendelés száma</th><th>Legkorábbi rendelés dátuma</th><th>Legkésőbbi rendelés dátuma</th></tr>",
                            "<tr><td>28085</td><td>2015-05-01</td><td>2017-04-01</td></tr>",
                            "</table>"
                        ]
                    }
                }
            ],
            "execution_count": 4
        },
        {
            "cell_type": "markdown",
            "source": [
                "### **Rendelések száma havi lebontásban**"
            ],
            "metadata": {
                "azdata_cell_guid": "d075be9a-9b8a-40c6-b078-8ba9cbf50ac4"
            },
            "attachments": {}
        },
        {
            "cell_type": "code",
            "source": [
                "SELECT \r\n",
                "    YEAR(REND_DATUM) AS 'Rendelés éve',\r\n",
                "    MONTH(REND_DATUM) AS 'Rendelés hónapja',\r\n",
                "    COUNT(*) AS 'Rendelések száma'\r\n",
                "FROM RENDELES\r\n",
                "GROUP BY YEAR(REND_DATUM), MONTH(REND_DATUM)\r\n",
                "ORDER BY 1, 2"
            ],
            "metadata": {
                "azdata_cell_guid": "882d8ccb-4655-4bda-9922-2d7389e885ae",
                "language": "sql"
            },
            "outputs": [
                {
                    "output_type": "display_data",
                    "data": {
                        "text/html": "(24 rows affected)"
                    },
                    "metadata": {}
                },
                {
                    "output_type": "display_data",
                    "data": {
                        "text/html": "Total execution time: 00:00:00.037"
                    },
                    "metadata": {}
                },
                {
                    "output_type": "execute_result",
                    "metadata": {},
                    "execution_count": 7,
                    "data": {
                        "application/vnd.dataresource+json": {
                            "schema": {
                                "fields": [
                                    {
                                        "name": "Rendelés éve"
                                    },
                                    {
                                        "name": "Rendelés hónapja"
                                    },
                                    {
                                        "name": "Rendelések száma"
                                    }
                                ]
                            },
                            "data": [
                                {
                                    "Rendelés éve": "2015",
                                    "Rendelés hónapja": "5",
                                    "Rendelések száma": "1203"
                                },
                                {
                                    "Rendelés éve": "2015",
                                    "Rendelés hónapja": "6",
                                    "Rendelések száma": "1155"
                                },
                                {
                                    "Rendelés éve": "2015",
                                    "Rendelés hónapja": "7",
                                    "Rendelések száma": "1235"
                                },
                                {
                                    "Rendelés éve": "2015",
                                    "Rendelés hónapja": "8",
                                    "Rendelések száma": "1276"
                                },
                                {
                                    "Rendelés éve": "2015",
                                    "Rendelés hónapja": "9",
                                    "Rendelések száma": "1207"
                                },
                                {
                                    "Rendelés éve": "2015",
                                    "Rendelés hónapja": "10",
                                    "Rendelések száma": "1233"
                                },
                                {
                                    "Rendelés éve": "2015",
                                    "Rendelés hónapja": "11",
                                    "Rendelések száma": "1178"
                                },
                                {
                                    "Rendelés éve": "2015",
                                    "Rendelés hónapja": "12",
                                    "Rendelések száma": "1260"
                                },
                                {
                                    "Rendelés éve": "2016",
                                    "Rendelés hónapja": "1",
                                    "Rendelések száma": "1226"
                                },
                                {
                                    "Rendelés éve": "2016",
                                    "Rendelés hónapja": "2",
                                    "Rendelések száma": "1193"
                                },
                                {
                                    "Rendelés éve": "2016",
                                    "Rendelés hónapja": "3",
                                    "Rendelések száma": "1274"
                                },
                                {
                                    "Rendelés éve": "2016",
                                    "Rendelés hónapja": "4",
                                    "Rendelések száma": "1259"
                                },
                                {
                                    "Rendelés éve": "2016",
                                    "Rendelés hónapja": "5",
                                    "Rendelések száma": "1218"
                                },
                                {
                                    "Rendelés éve": "2016",
                                    "Rendelés hónapja": "6",
                                    "Rendelések száma": "1214"
                                },
                                {
                                    "Rendelés éve": "2016",
                                    "Rendelés hónapja": "7",
                                    "Rendelések száma": "1209"
                                },
                                {
                                    "Rendelés éve": "2016",
                                    "Rendelés hónapja": "8",
                                    "Rendelések száma": "1274"
                                },
                                {
                                    "Rendelés éve": "2016",
                                    "Rendelés hónapja": "9",
                                    "Rendelések száma": "1192"
                                },
                                {
                                    "Rendelés éve": "2016",
                                    "Rendelés hónapja": "10",
                                    "Rendelések száma": "1277"
                                },
                                {
                                    "Rendelés éve": "2016",
                                    "Rendelés hónapja": "11",
                                    "Rendelések száma": "1210"
                                },
                                {
                                    "Rendelés éve": "2016",
                                    "Rendelés hónapja": "12",
                                    "Rendelések száma": "1227"
                                },
                                {
                                    "Rendelés éve": "2017",
                                    "Rendelés hónapja": "1",
                                    "Rendelések száma": "1204"
                                },
                                {
                                    "Rendelés éve": "2017",
                                    "Rendelés hónapja": "2",
                                    "Rendelések száma": "1081"
                                },
                                {
                                    "Rendelés éve": "2017",
                                    "Rendelés hónapja": "3",
                                    "Rendelések száma": "1242"
                                },
                                {
                                    "Rendelés éve": "2017",
                                    "Rendelés hónapja": "4",
                                    "Rendelések száma": "38"
                                }
                            ]
                        },
                        "text/html": [
                            "<table>",
                            "<tr><th>Rendelés éve</th><th>Rendelés hónapja</th><th>Rendelések száma</th></tr>",
                            "<tr><td>2015</td><td>5</td><td>1203</td></tr>",
                            "<tr><td>2015</td><td>6</td><td>1155</td></tr>",
                            "<tr><td>2015</td><td>7</td><td>1235</td></tr>",
                            "<tr><td>2015</td><td>8</td><td>1276</td></tr>",
                            "<tr><td>2015</td><td>9</td><td>1207</td></tr>",
                            "<tr><td>2015</td><td>10</td><td>1233</td></tr>",
                            "<tr><td>2015</td><td>11</td><td>1178</td></tr>",
                            "<tr><td>2015</td><td>12</td><td>1260</td></tr>",
                            "<tr><td>2016</td><td>1</td><td>1226</td></tr>",
                            "<tr><td>2016</td><td>2</td><td>1193</td></tr>",
                            "<tr><td>2016</td><td>3</td><td>1274</td></tr>",
                            "<tr><td>2016</td><td>4</td><td>1259</td></tr>",
                            "<tr><td>2016</td><td>5</td><td>1218</td></tr>",
                            "<tr><td>2016</td><td>6</td><td>1214</td></tr>",
                            "<tr><td>2016</td><td>7</td><td>1209</td></tr>",
                            "<tr><td>2016</td><td>8</td><td>1274</td></tr>",
                            "<tr><td>2016</td><td>9</td><td>1192</td></tr>",
                            "<tr><td>2016</td><td>10</td><td>1277</td></tr>",
                            "<tr><td>2016</td><td>11</td><td>1210</td></tr>",
                            "<tr><td>2016</td><td>12</td><td>1227</td></tr>",
                            "<tr><td>2017</td><td>1</td><td>1204</td></tr>",
                            "<tr><td>2017</td><td>2</td><td>1081</td></tr>",
                            "<tr><td>2017</td><td>3</td><td>1242</td></tr>",
                            "<tr><td>2017</td><td>4</td><td>38</td></tr>",
                            "</table>"
                        ]
                    }
                }
            ],
            "execution_count": 7
        },
        {
            "cell_type": "markdown",
            "source": [
                "![](data:image/png;base64,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)"
            ],
            "metadata": {
                "azdata_cell_guid": "f5539b62-4077-4974-a5e9-810f89bf6941"
            },
            "attachments": {}
        },
        {
            "cell_type": "markdown",
            "source": [
                "### **Leggyakoribb szállítási módok százalékos eloszlása**"
            ],
            "metadata": {
                "azdata_cell_guid": "de3c8e91-ed11-4545-a642-24b8b0510e28"
            },
            "attachments": {}
        },
        {
            "cell_type": "code",
            "source": [
                "SELECT \r\n",
                "    SZALL_MOD AS 'Szállítási mód', \r\n",
                "    COUNT(*) AS 'Szállítások száma', \r\n",
                "    CAST(ROUND((COUNT(*) * 100.0 / (SELECT COUNT(*) FROM RENDELES)), 2) as float) AS 'Százalék'\r\n",
                "FROM RENDELES\r\n",
                "GROUP BY SZALL_MOD\r\n",
                "ORDER BY 2 DESC"
            ],
            "metadata": {
                "azdata_cell_guid": "c1effae2-d668-43e2-8153-7dc947407604",
                "language": "sql"
            },
            "outputs": [
                {
                    "output_type": "display_data",
                    "data": {
                        "text/html": "(3 rows affected)"
                    },
                    "metadata": {}
                },
                {
                    "output_type": "display_data",
                    "data": {
                        "text/html": "Total execution time: 00:00:00.044"
                    },
                    "metadata": {}
                },
                {
                    "output_type": "execute_result",
                    "metadata": {},
                    "execution_count": 10,
                    "data": {
                        "application/vnd.dataresource+json": {
                            "schema": {
                                "fields": [
                                    {
                                        "name": "Szállítási mód"
                                    },
                                    {
                                        "name": "Szállítások száma"
                                    },
                                    {
                                        "name": "Százalék"
                                    }
                                ]
                            },
                            "data": [
                                {
                                    "Szállítási mód": "Személyes átvétel",
                                    "Szállítások száma": "9468",
                                    "Százalék": "33,71"
                                },
                                {
                                    "Szállítási mód": "GLS",
                                    "Szállítások száma": "9426",
                                    "Százalék": "33,56"
                                },
                                {
                                    "Szállítási mód": "Posta",
                                    "Szállítások száma": "9191",
                                    "Százalék": "32,73"
                                }
                            ]
                        },
                        "text/html": [
                            "<table>",
                            "<tr><th>Szállítási mód</th><th>Szállítások száma</th><th>Százalék</th></tr>",
                            "<tr><td>Személyes átvétel</td><td>9468</td><td>33,71</td></tr>",
                            "<tr><td>GLS</td><td>9426</td><td>33,56</td></tr>",
                            "<tr><td>Posta</td><td>9191</td><td>32,73</td></tr>",
                            "</table>"
                        ]
                    }
                }
            ],
            "execution_count": 10
        },
        {
            "cell_type": "markdown",
            "source": [
                "![](data:image/png;base64,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)"
            ],
            "metadata": {
                "azdata_cell_guid": "67ed773c-bc9f-4479-8819-b63f329f552d"
            },
            "attachments": {}
        },
        {
            "cell_type": "markdown",
            "source": [
                "### **Leggyorsabb szállítási idő, leghosszabb szállítási idő, átlagos szállítási idő, szállítási idők szórása**"
            ],
            "metadata": {
                "azdata_cell_guid": "15e8e78f-0d56-4620-bb38-c979d92990db"
            },
            "attachments": {}
        },
        {
            "cell_type": "code",
            "source": [
                "SELECT \r\n",
                "    MIN(DATEDIFF(DAY, REND_DATUM, SZALL_DATUM)) AS 'Leggyorsabb szállítási idő (nap)',\r\n",
                "    MAX(DATEDIFF(DAY, REND_DATUM, SZALL_DATUM)) AS 'Leghosszabb szállítási idő (nap)',\r\n",
                "    AVG(DATEDIFF(DAY, REND_DATUM, SZALL_DATUM)) AS 'Átlagos szállítási idő (nap)',\r\n",
                "    CAST(ROUND(STDEV(DATEDIFF(DAY, REND_DATUM, SZALL_DATUM)), 2) as float) AS 'Szállítási idők szórása'\r\n",
                "FROM RENDELES\r\n",
                "WHERE SZALL_DATUM IS NOT NULL"
            ],
            "metadata": {
                "azdata_cell_guid": "fe61b446-6e05-43cc-a71d-65071f66d7bc",
                "language": "sql"
            },
            "outputs": [
                {
                    "output_type": "display_data",
                    "data": {
                        "text/html": "(1 row affected)"
                    },
                    "metadata": {}
                },
                {
                    "output_type": "display_data",
                    "data": {
                        "text/html": "Total execution time: 00:00:00.043"
                    },
                    "metadata": {}
                },
                {
                    "output_type": "execute_result",
                    "metadata": {},
                    "execution_count": 14,
                    "data": {
                        "application/vnd.dataresource+json": {
                            "schema": {
                                "fields": [
                                    {
                                        "name": "Leggyorsabb szállítási idő (nap)"
                                    },
                                    {
                                        "name": "Leghosszabb szállítási idő (nap)"
                                    },
                                    {
                                        "name": "Átlagos szállítási idő (nap)"
                                    },
                                    {
                                        "name": "Szállítási idők szórása"
                                    }
                                ]
                            },
                            "data": [
                                {
                                    "Leggyorsabb szállítási idő (nap)": "2",
                                    "Leghosszabb szállítási idő (nap)": "10",
                                    "Átlagos szállítási idő (nap)": "5",
                                    "Szállítási idők szórása": "2,6"
                                }
                            ]
                        },
                        "text/html": [
                            "<table>",
                            "<tr><th>Leggyorsabb szállítási idő (nap)</th><th>Leghosszabb szállítási idő (nap)</th><th>Átlagos szállítási idő (nap)</th><th>Szállítási idők szórása</th></tr>",
                            "<tr><td>2</td><td>10</td><td>5</td><td>2,6</td></tr>",
                            "</table>"
                        ]
                    }
                }
            ],
            "execution_count": 14
        },
        {
            "cell_type": "markdown",
            "source": [
                "### **Számlázási címek eloszlása**"
            ],
            "metadata": {
                "azdata_cell_guid": "03bcf13d-cfe6-44d0-9f38-44d2cd9effb8"
            },
            "attachments": {}
        },
        {
            "cell_type": "code",
            "source": [
                "SELECT \r\n",
                "    SZAMLA_CIM AS 'Számlázási cím', COUNT(*) AS 'Rendelések száma'\r\n",
                "FROM RENDELES\r\n",
                "WHERE SZAMLA_CIM IS NOT NULL\r\n",
                "GROUP BY SZAMLA_CIM\r\n",
                "ORDER BY 2 ASC"
            ],
            "metadata": {
                "azdata_cell_guid": "31b9fe89-b280-47f5-a5ff-6c4cebb7a8f3",
                "language": "sql"
            },
            "outputs": [
                {
                    "output_type": "display_data",
                    "data": {
                        "text/html": "(273 rows affected)"
                    },
                    "metadata": {}
                },
                {
                    "output_type": "display_data",
                    "data": {
                        "text/html": "Total execution time: 00:00:00.050"
                    },
                    "metadata": {}
                },
                {
                    "output_type": "execute_result",
                    "metadata": {},
                    "execution_count": 18,
                    "data": {
                        "application/vnd.dataresource+json": {
                            "schema": {
                                "fields": [
                                    {
                                        "name": "Számlázási cím"
                                    },
                                    {
                                        "name": "Rendelések száma"
                                    }
                                ]
                            },
                            "data": [
                                {
                                    "Számlázási cím": "1035 Budapest, Nagy u.14.",
                                    "Rendelések száma": "1"
                                },
                                {
                                    "Számlázási cím": "1047 Budapest, Fő u. 2.",
                                    "Rendelések száma": "1"
                                },
                                {
                                    "Számlázási cím": "1047 Budapest, Kiss u. 32.",
                                    "Rendelések száma": "1"
                                },
                                {
                                    "Számlázási cím": "1047 Budapest, Nagy u.14.",
                                    "Rendelések száma": "1"
                                },
                                {
                                    "Számlázási cím": "1067 Budapest, Kiss u. 32.",
                                    "Rendelések száma": "1"
                                },
                                {
                                    "Számlázási cím": "1067 Budapest, Nagy u.14.",
                                    "Rendelések száma": "1"
                                },
                                {
                                    "Számlázási cím": "1084 Budapest, Nagy u.14.",
                                    "Rendelések száma": "1"
                                },
                                {
                                    "Számlázási cím": "1124 Budapest, Fő u. 2.",
                                    "Rendelések száma": "1"
                                },
                                {
                                    "Számlázási cím": "1124 Budapest, Kiss u. 32.",
                                    "Rendelések száma": "1"
                                },
                                {
                                    "Számlázási cím": "1155 Budapest, Nagy u.14.",
                                    "Rendelések száma": "1"
                                },
                                {
                                    "Számlázási cím": "2053 Herceghalom, Fő u. 2.",
                                    "Rendelések száma": "1"
                                },
                                {
                                    "Számlázási cím": "2053 Herceghalom, Kiss u. 32.",
                                    "Rendelések száma": "1"
                                },
                                {
                                    "Számlázási cím": "2117 Isaszeg, Kiss u. 32.",
                                    "Rendelések száma": "1"
                                },
                                {
                                    "Számlázási cím": "2131 Göd, Fő u. 2.",
                                    "Rendelések száma": "1"
                                },
                                {
                                    "Számlázási cím": "2131 Göd, Kiss u. 32.",
                                    "Rendelések száma": "1"
                                },
                                {
                                    "Számlázási cím": "2330 Dunaharaszti, Kiss u. 32.",
                                    "Rendelések száma": "1"
                                },
                                {
                                    "Számlázási cím": "2370 Dabas, Kiss u. 32.",
                                    "Rendelések száma": "1"
                                },
                                {
                                    "Számlázási cím": "2381 Táborfalva, Kiss u. 32.",
                                    "Rendelések száma": "1"
                                },
                                {
                                    "Számlázási cím": "2800 Tatabánya, Fő u. 2.",
                                    "Rendelések száma": "1"
                                },
                                {
                                    "Számlázási cím": "2800 Tatabánya, Nagy u.14.",
                                    "Rendelések száma": "1"
                                },
                                {
                                    "Számlázási cím": "3300 Eger, Nagy u.14.",
                                    "Rendelések száma": "1"
                                },
                                {
                                    "Számlázási cím": "3500 Miskolc, Kiss u. 32.",
                                    "Rendelések száma": "1"
                                },
                                {
                                    "Számlázási cím": "3630 Putnok, Fő u. 2.",
                                    "Rendelések száma": "1"
                                },
                                {
                                    "Számlázási cím": "3630 Putnok, Kiss u. 32.",
                                    "Rendelések száma": "1"
                                },
                                {
                                    "Számlázási cím": "3783 Edelény, Fő u. 2.",
                                    "Rendelések száma": "1"
                                },
                                {
                                    "Számlázási cím": "3860 Encs, Nagy u.14.",
                                    "Rendelések száma": "1"
                                },
                                {
                                    "Számlázási cím": "3895 Gönc, Fő u. 2.",
                                    "Rendelések száma": "1"
                                },
                                {
                                    "Számlázási cím": "3895 Gönc, Kiss u. 32.",
                                    "Rendelések száma": "1"
                                },
                                {
                                    "Számlázási cím": "3910 Tokaj, Kiss u. 32.",
                                    "Rendelések száma": "1"
                                },
                                {
                                    "Számlázási cím": "3980 Sátoraljaújhely, Fő u. 2.",
                                    "Rendelések száma": "1"
                                },
                                {
                                    "Számlázási cím": "4200 Hajdúszoboszló, Fő u. 2.",
                                    "Rendelések száma": "1"
                                },
                                {
                                    "Számlázási cím": "4200 Hajdúszoboszló, Kiss u. 32.",
                                    "Rendelések száma": "1"
                                },
                                {
                                    "Számlázási cím": "4071 Egyek, Fő u. 2.",
                                    "Rendelések száma": "1"
                                },
                                {
                                    "Számlázási cím": "4600 Kisvárda, Fő u. 2.",
                                    "Rendelések száma": "1"
                                },
                                {
                                    "Számlázási cím": "4800 Vásárosnamény, Fő u. 2.",
                                    "Rendelések száma": "1"
                                },
                                {
                                    "Számlázási cím": "5083 Kengyel, Nagy u.14.",
                                    "Rendelések száma": "1"
                                },
                                {
                                    "Számlázási cím": "5085 Rákóczifalva, Kiss u. 32.",
                                    "Rendelések száma": "1"
                                },
                                {
                                    "Számlázási cím": "5465 Cserkeszőlő, Fő u. 2.",
                                    "Rendelések száma": "1"
                                },
                                {
                                    "Számlázási cím": "5530 Vésztő, Nagy u.14.",
                                    "Rendelések száma": "1"
                                },
                                {
                                    "Számlázási cím": "5940 Tótkomlós, Fő u. 2.",
                                    "Rendelések száma": "1"
                                },
                                {
                                    "Számlázási cím": "5940 Tótkomlós, Kiss u. 32.",
                                    "Rendelések száma": "1"
                                },
                                {
                                    "Számlázási cím": "5940 Tótkomlós, Nagy u.14.",
                                    "Rendelések száma": "1"
                                },
                                {
                                    "Számlázási cím": "6131 Szank, Fő u. 2.",
                                    "Rendelések száma": "1"
                                },
                                {
                                    "Számlázási cím": "6131 Szank, Kiss u. 32.",
                                    "Rendelések száma": "1"
                                },
                                {
                                    "Számlázási cím": "6500 Baja, Fő u. 2.",
                                    "Rendelések száma": "1"
                                },
                                {
                                    "Számlázási cím": "6500 Baja, Kiss u. 32.",
                                    "Rendelések száma": "1"
                                },
                                {
                                    "Számlázási cím": "6762 Sándorfalva, Fő u. 2.",
                                    "Rendelések száma": "1"
                                },
                                {
                                    "Számlázási cím": "6762 Sándorfalva, Kiss u. 32.",
                                    "Rendelések száma": "1"
                                },
                                {
                                    "Számlázási cím": "6900 Makó, Kiss u. 32.",
                                    "Rendelések száma": "1"
                                },
                                {
                                    "Számlázási cím": "7000 Sárbogárd, Fő u. 2.",
                                    "Rendelések száma": "1"
                                },
                                {
                                    "Számlázási cím": "7000 Sárbogárd, Kiss u. 32.",
                                    "Rendelések száma": "1"
                                },
                                {
                                    "Számlázási cím": "7150 Bonyhád, Kiss u. 32.",
                                    "Rendelések száma": "1"
                                },
                                {
                                    "Számlázási cím": "7220 Sarkad, Kiss u. 32.",
                                    "Rendelések száma": "1"
                                },
                                {
                                    "Számlázási cím": "7349 Szászvár, Fő u. 2.",
                                    "Rendelések száma": "1"
                                },
                                {
                                    "Számlázási cím": "7349 Szászvár, Kiss u. 32.",
                                    "Rendelések száma": "1"
                                },
                                {
                                    "Számlázási cím": "7511 Ötvöskónyi, Kiss u. 32.",
                                    "Rendelések száma": "1"
                                },
                                {
                                    "Számlázási cím": "7511 Ötvöskónyi, Nagy u.14.",
                                    "Rendelések száma": "1"
                                },
                                {
                                    "Számlázási cím": "8220 Balatonalmádi, Fő u. 2.",
                                    "Rendelések száma": "1"
                                },
                                {
                                    "Számlázási cím": "8220 Balatonalmádi, Kiss u. 32.",
                                    "Rendelések száma": "1"
                                },
                                {
                                    "Számlázási cím": "8237 Tihany, Fő u. 2.",
                                    "Rendelések száma": "1"
                                },
                                {
                                    "Számlázási cím": "8237 Tihany, Kiss u. 32.",
                                    "Rendelések száma": "1"
                                },
                                {
                                    "Számlázási cím": "8237 Tihany, Nagy u.14.",
                                    "Rendelések száma": "1"
                                },
                                {
                                    "Számlázási cím": "8254 Kővágóörs, Kiss u. 32.",
                                    "Rendelések száma": "1"
                                },
                                {
                                    "Számlázási cím": "8283 Káptalantóti, Fő u. 2.",
                                    "Rendelések száma": "1"
                                },
                                {
                                    "Számlázási cím": "8391 Sármellék, Kiss u. 32.",
                                    "Rendelések száma": "1"
                                },
                                {
                                    "Számlázási cím": "8630 Balatonboglár, Fő u. 2.",
                                    "Rendelések száma": "1"
                                },
                                {
                                    "Számlázási cím": "8638 Balatonlelle, Kiss u. 32.",
                                    "Rendelések száma": "1"
                                },
                                {
                                    "Számlázási cím": "8640 Fonyód, Fő u. 2.",
                                    "Rendelések száma": "1"
                                },
                                {
                                    "Számlázási cím": "8640 Fonyód, Kiss u. 32.",
                                    "Rendelések száma": "1"
                                },
                                {
                                    "Számlázási cím": "8800 Nagykanizsa, Fő u. 2.",
                                    "Rendelések száma": "1"
                                },
                                {
                                    "Számlázási cím": "8800 Nagykanizsa, Kiss u. 32.",
                                    "Rendelések száma": "1"
                                },
                                {
                                    "Számlázási cím": "8315 Gyenesdiás, Fő u. 2.",
                                    "Rendelések száma": "1"
                                },
                                {
                                    "Számlázási cím": "9970 Szentgotthárd, Kiss u. 32.",
                                    "Rendelések száma": "1"
                                },
                                {
                                    "Számlázási cím": "9970 Szentgotthárd, Nagy u.14.",
                                    "Rendelések száma": "1"
                                },
                                {
                                    "Számlázási cím": "9071 Görbeháza, Fő u. 2.",
                                    "Rendelések száma": "2"
                                },
                                {
                                    "Számlázási cím": "8200 Veszprém, Nagy u.14.",
                                    "Rendelések száma": "2"
                                },
                                {
                                    "Számlázási cím": "7220 Sarkad, Fő u. 2.",
                                    "Rendelések száma": "2"
                                },
                                {
                                    "Számlázási cím": "7150 Bonyhád, Fő u. 2.",
                                    "Rendelések száma": "2"
                                },
                                {
                                    "Számlázási cím": "7133 Fadd, Nagy u.14.",
                                    "Rendelések száma": "2"
                                },
                                {
                                    "Számlázási cím": "7130 Tolna, Fő u. 2.",
                                    "Rendelések száma": "2"
                                },
                                {
                                    "Számlázási cím": "7130 Tolna, Kiss u. 32.",
                                    "Rendelések száma": "2"
                                },
                                {
                                    "Számlázási cím": "6060 Tiszakécske, Fő u. 2.",
                                    "Rendelések száma": "2"
                                },
                                {
                                    "Számlázási cím": "5530 Vésztő, Fő u. 2.",
                                    "Rendelések száma": "2"
                                },
                                {
                                    "Számlázási cím": "4800 Vásárosnamény, Kiss u. 32.",
                                    "Rendelések száma": "2"
                                },
                                {
                                    "Számlázási cím": "4172 Biharnagybajom, Kiss u. 32.",
                                    "Rendelések száma": "2"
                                },
                                {
                                    "Számlázási cím": "3910 Tokaj, Fő u. 2.",
                                    "Rendelések száma": "2"
                                },
                                {
                                    "Számlázási cím": "2532 Tokodaltáró, Kiss u. 32.",
                                    "Rendelések száma": "2"
                                },
                                {
                                    "Számlázási cím": "2600 Vác, Kiss u. 32.",
                                    "Rendelések száma": "2"
                                },
                                {
                                    "Számlázási cím": "2370 Dabas, Nagy u.14.",
                                    "Rendelések száma": "2"
                                },
                                {
                                    "Számlázási cím": "2377 Örkény, Fő u. 2.",
                                    "Rendelések száma": "2"
                                },
                                {
                                    "Számlázási cím": "2370 Dabas, Fő u. 2.",
                                    "Rendelések száma": "2"
                                },
                                {
                                    "Számlázási cím": "2330 Dunaharaszti, Fő u. 2.",
                                    "Rendelések száma": "2"
                                },
                                {
                                    "Számlázási cím": "2115 Vácszentlászló, Kiss u. 32.",
                                    "Rendelések száma": "2"
                                },
                                {
                                    "Számlázási cím": "2115 Vácszentlászló, Nagy u.14.",
                                    "Rendelések száma": "2"
                                },
                                {
                                    "Számlázási cím": "1102 Budapest, Nagy u.14.",
                                    "Rendelések száma": "2"
                                },
                                {
                                    "Számlázási cím": "1107 Budapest, Kiss u. 32.",
                                    "Rendelések száma": "2"
                                },
                                {
                                    "Számlázási cím": "1035 Budapest, Fő u. 2.",
                                    "Rendelések száma": "2"
                                },
                                {
                                    "Számlázási cím": "1072 Budapest, Fő u. 2.",
                                    "Rendelések száma": "2"
                                },
                                {
                                    "Számlázási cím": "1067 Budapest, Fő u. 2.",
                                    "Rendelések száma": "2"
                                },
                                {
                                    "Számlázási cím": "1035 Budapest, Kiss u. 32.",
                                    "Rendelések száma": "3"
                                },
                                {
                                    "Számlázási cím": "1011 Budapest, Kiss u. 32.",
                                    "Rendelések száma": "3"
                                },
                                {
                                    "Számlázási cím": "1192 Budapest, Nagy u.14.",
                                    "Rendelések száma": "3"
                                },
                                {
                                    "Számlázási cím": "2117 Isaszeg, Fő u. 2.",
                                    "Rendelések száma": "3"
                                },
                                {
                                    "Számlázási cím": "2115 Vácszentlászló, Fő u. 2.",
                                    "Rendelések száma": "3"
                                },
                                {
                                    "Számlázási cím": "2424 Előszállás, Nagy u.14.",
                                    "Rendelések száma": "3"
                                },
                                {
                                    "Számlázási cím": "2300 Ráckeve, Nagy u.14.",
                                    "Rendelések száma": "3"
                                },
                                {
                                    "Számlázási cím": "2484 Agárd, Nagy u.14.",
                                    "Rendelések száma": "3"
                                },
                                {
                                    "Számlázási cím": "3973 Cigánd, Nagy u.14.",
                                    "Rendelések száma": "3"
                                },
                                {
                                    "Számlázási cím": "4071 Egyek, Kiss u. 32.",
                                    "Rendelések száma": "3"
                                },
                                {
                                    "Számlázási cím": "4231 Bököny, Nagy u.14.",
                                    "Rendelések száma": "3"
                                },
                                {
                                    "Számlázási cím": "5061 Tiszasüly, Nagy u.14.",
                                    "Rendelések száma": "3"
                                },
                                {
                                    "Számlázási cím": "6412 Balotaszállás, Fő u. 2.",
                                    "Rendelések száma": "3"
                                },
                                {
                                    "Számlázási cím": "6760 Kistelek, Nagy u.14.",
                                    "Rendelések száma": "3"
                                },
                                {
                                    "Számlázási cím": "8283 Káptalantóti, Kiss u. 32.",
                                    "Rendelések száma": "3"
                                },
                                {
                                    "Számlázási cím": "8391 Sármellék, Fő u. 2.",
                                    "Rendelések száma": "3"
                                },
                                {
                                    "Számlázási cím": "8313 Balatongyörök, Nagy u.14.",
                                    "Rendelések száma": "3"
                                },
                                {
                                    "Számlázási cím": "9653 Répcelak, Nagy u.14.",
                                    "Rendelések száma": "4"
                                },
                                {
                                    "Számlázási cím": "8254 Kővágóörs, Fő u. 2.",
                                    "Rendelések száma": "4"
                                },
                                {
                                    "Számlázási cím": "7149 Báta, Nagy u.14.",
                                    "Rendelések száma": "4"
                                },
                                {
                                    "Számlázási cím": "5310 Kisújszállás, Nagy u.14.",
                                    "Rendelések száma": "4"
                                },
                                {
                                    "Számlázási cím": "4400 Nyíregyháza, Nagy u.14.",
                                    "Rendelések száma": "4"
                                },
                                {
                                    "Számlázási cím": "3643 Dédestapolcsány, Nagy u.14.",
                                    "Rendelések száma": "4"
                                },
                                {
                                    "Számlázási cím": "2241 Sülysáp, Nagy u.14.",
                                    "Rendelések száma": "4"
                                },
                                {
                                    "Számlázási cím": "2100 Gödöllő, Nagy u.14.",
                                    "Rendelések száma": "4"
                                },
                                {
                                    "Számlázási cím": "2000 Szentendre, Nagy u.14.",
                                    "Rendelések száma": "4"
                                },
                                {
                                    "Számlázási cím": "1183 Budapest, Nagy u.14.",
                                    "Rendelések száma": "4"
                                },
                                {
                                    "Számlázási cím": "1173 Budapest, Nagy u.14.",
                                    "Rendelések száma": "5"
                                },
                                {
                                    "Számlázási cím": "2085 Pilisvörösvár, Nagy u.14.",
                                    "Rendelések száma": "5"
                                },
                                {
                                    "Számlázási cím": "3580 Tiszaújváros, Nagy u.14.",
                                    "Rendelések száma": "5"
                                },
                                {
                                    "Számlázási cím": "2700 Cegléd, Nagy u.14.",
                                    "Rendelések száma": "5"
                                },
                                {
                                    "Számlázási cím": "2855 Bokod, Nagy u.14.",
                                    "Rendelések száma": "5"
                                },
                                {
                                    "Számlázási cím": "5065 Nagykörű, Nagy u.14.",
                                    "Rendelések száma": "5"
                                },
                                {
                                    "Számlázási cím": "5537 Zsadány, Nagy u.14.",
                                    "Rendelések száma": "5"
                                },
                                {
                                    "Számlázási cím": "5931 Nagyszénás, Nagy u.14.",
                                    "Rendelések száma": "5"
                                },
                                {
                                    "Számlázási cím": "6700 Szeged, Nagy u.14.",
                                    "Rendelések száma": "5"
                                },
                                {
                                    "Számlázási cím": "7960 Sellye, Nagy u.14.",
                                    "Rendelések száma": "5"
                                },
                                {
                                    "Számlázási cím": "9181 Kimle, Nagy u.14.",
                                    "Rendelések száma": "5"
                                },
                                {
                                    "Számlázási cím": "5920 Csorvás, Nagy u.14.",
                                    "Rendelések száma": "6"
                                },
                                {
                                    "Számlázási cím": "4440 Tiszavasvári, Nagy u.14.",
                                    "Rendelések száma": "6"
                                },
                                {
                                    "Számlázási cím": "4244 Újfehértó, Nagy u.14.",
                                    "Rendelések száma": "6"
                                },
                                {
                                    "Számlázási cím": "1077 Budapest, Nagy u.14.",
                                    "Rendelések száma": "6"
                                },
                                {
                                    "Számlázási cím": "1149 Budapest, Nagy u.14.",
                                    "Rendelések száma": "7"
                                },
                                {
                                    "Számlázási cím": "5071 Besenyszög, Nagy u.14.",
                                    "Rendelések száma": "7"
                                },
                                {
                                    "Számlázási cím": "2730 Albertirsa, Nagy u.14.",
                                    "Rendelések száma": "7"
                                },
                                {
                                    "Számlázási cím": "4060 Balmazújváros, Nagy u.14.",
                                    "Rendelések száma": "7"
                                },
                                {
                                    "Számlázási cím": "5630 Békés, Nagy u.14.",
                                    "Rendelések száma": "7"
                                },
                                {
                                    "Számlázási cím": "6913 Csanádpalota, Nagy u.14.",
                                    "Rendelések száma": "7"
                                },
                                {
                                    "Számlázási cím": "9155 Lébény, Nagy u.14.",
                                    "Rendelések száma": "7"
                                },
                                {
                                    "Számlázási cím": "7900 Szigetvár, Nagy u.14.",
                                    "Rendelések száma": "7"
                                },
                                {
                                    "Számlázási cím": "7396 Magyarszék, Nagy u.14.",
                                    "Rendelések száma": "7"
                                },
                                {
                                    "Számlázási cím": "9023 Győr, Nagy u.14.",
                                    "Rendelések száma": "8"
                                },
                                {
                                    "Számlázási cím": "7100 Szekszárd, Nagy u.14.",
                                    "Rendelések száma": "8"
                                },
                                {
                                    "Számlázási cím": "6080 Szabadszállás, Nagy u.14.",
                                    "Rendelések száma": "8"
                                },
                                {
                                    "Számlázási cím": "6050 Lajosmizse, Nagy u.14.",
                                    "Rendelések száma": "8"
                                },
                                {
                                    "Számlázási cím": "3580 Tiszaújváros, Kiss u. 32.",
                                    "Rendelések száma": "8"
                                },
                                {
                                    "Számlázási cím": "4244 Újfehértó, Kiss u. 32.",
                                    "Rendelések száma": "8"
                                },
                                {
                                    "Számlázási cím": "1192 Budapest, Fő u. 2.",
                                    "Rendelések száma": "8"
                                },
                                {
                                    "Számlázási cím": "2462 Martonvásár, Nagy u.14.",
                                    "Rendelések száma": "9"
                                },
                                {
                                    "Számlázási cím": "6430 Bácsalmás, Nagy u.14.",
                                    "Rendelések száma": "9"
                                },
                                {
                                    "Számlázási cím": "6646 Tömörkény, Nagy u.14.",
                                    "Rendelések száma": "9"
                                },
                                {
                                    "Számlázási cím": "7086 Ozora, Nagy u.14.",
                                    "Rendelések száma": "9"
                                },
                                {
                                    "Számlázási cím": "5200 Törökszentmiklós, Nagy u.14.",
                                    "Rendelések száma": "10"
                                },
                                {
                                    "Számlázási cím": "6430 Bácsalmás, Kiss u. 32.",
                                    "Rendelések száma": "11"
                                },
                                {
                                    "Számlázási cím": "6080 Szabadszállás, Kiss u. 32.",
                                    "Rendelések száma": "11"
                                },
                                {
                                    "Számlázási cím": "7960 Sellye, Kiss u. 32.",
                                    "Rendelések száma": "11"
                                },
                                {
                                    "Számlázási cím": "4060 Balmazújváros, Kiss u. 32.",
                                    "Rendelések száma": "11"
                                },
                                {
                                    "Számlázási cím": "5061 Tiszasüly, Kiss u. 32.",
                                    "Rendelések száma": "12"
                                },
                                {
                                    "Számlázási cím": "5065 Nagykörű, Kiss u. 32.",
                                    "Rendelések száma": "12"
                                },
                                {
                                    "Számlázási cím": "2085 Pilisvörösvár, Kiss u. 32.",
                                    "Rendelések száma": "12"
                                },
                                {
                                    "Számlázási cím": "1173 Budapest, Kiss u. 32.",
                                    "Rendelések száma": "12"
                                },
                                {
                                    "Számlázási cím": "6760 Kistelek, Kiss u. 32.",
                                    "Rendelések száma": "12"
                                },
                                {
                                    "Számlázási cím": "7100 Szekszárd, Kiss u. 32.",
                                    "Rendelések száma": "12"
                                },
                                {
                                    "Számlázási cím": "6786 Ruzsa, Nagy u.14.",
                                    "Rendelések száma": "12"
                                },
                                {
                                    "Számlázási cím": "5537 Zsadány, Kiss u. 32.",
                                    "Rendelések száma": "12"
                                },
                                {
                                    "Számlázási cím": "5630 Békés, Fő u. 2.",
                                    "Rendelések száma": "13"
                                },
                                {
                                    "Számlázási cím": "6080 Szabadszállás, Fő u. 2.",
                                    "Rendelések száma": "13"
                                },
                                {
                                    "Számlázási cím": "5931 Nagyszénás, Kiss u. 32.",
                                    "Rendelések száma": "13"
                                },
                                {
                                    "Számlázási cím": "6646 Tömörkény, Kiss u. 32.",
                                    "Rendelések száma": "13"
                                },
                                {
                                    "Számlázási cím": "7900 Szigetvár, Kiss u. 32.",
                                    "Rendelések száma": "13"
                                },
                                {
                                    "Számlázási cím": "7133 Fadd, Kiss u. 32.",
                                    "Rendelések száma": "13"
                                },
                                {
                                    "Számlázási cím": "2000 Szentendre, Fő u. 2.",
                                    "Rendelések száma": "13"
                                },
                                {
                                    "Számlázási cím": "2085 Pilisvörösvár, Fő u. 2.",
                                    "Rendelések száma": "13"
                                },
                                {
                                    "Számlázási cím": "2462 Martonvásár, Kiss u. 32.",
                                    "Rendelések száma": "13"
                                },
                                {
                                    "Számlázási cím": "2424 Előszállás, Kiss u. 32.",
                                    "Rendelések száma": "13"
                                },
                                {
                                    "Számlázási cím": "2300 Ráckeve, Kiss u. 32.",
                                    "Rendelések száma": "13"
                                },
                                {
                                    "Számlázási cím": "5061 Tiszasüly, Fő u. 2.",
                                    "Rendelések száma": "13"
                                },
                                {
                                    "Számlázási cím": "5071 Besenyszög, Kiss u. 32.",
                                    "Rendelések száma": "14"
                                },
                                {
                                    "Számlázási cím": "4244 Újfehértó, Fő u. 2.",
                                    "Rendelések száma": "14"
                                },
                                {
                                    "Számlázási cím": "2700 Cegléd, Kiss u. 32.",
                                    "Rendelések száma": "14"
                                },
                                {
                                    "Számlázási cím": "2241 Sülysáp, Kiss u. 32.",
                                    "Rendelések száma": "14"
                                },
                                {
                                    "Számlázási cím": "7100 Szekszárd, Fő u. 2.",
                                    "Rendelések száma": "14"
                                },
                                {
                                    "Számlázási cím": "6050 Lajosmizse, Kiss u. 32.",
                                    "Rendelések száma": "14"
                                },
                                {
                                    "Számlázási cím": "5920 Csorvás, Kiss u. 32.",
                                    "Rendelések száma": "15"
                                },
                                {
                                    "Számlázási cím": "7133 Fadd, Fő u. 2.",
                                    "Rendelések száma": "15"
                                },
                                {
                                    "Számlázási cím": "7086 Ozora, Fő u. 2.",
                                    "Rendelések száma": "15"
                                },
                                {
                                    "Számlázási cím": "7396 Magyarszék, Kiss u. 32.",
                                    "Rendelések száma": "15"
                                },
                                {
                                    "Számlázási cím": "9155 Lébény, Fő u. 2.",
                                    "Rendelések száma": "15"
                                },
                                {
                                    "Számlázási cím": "2241 Sülysáp, Fő u. 2.",
                                    "Rendelések száma": "15"
                                },
                                {
                                    "Számlázási cím": "1149 Budapest, Kiss u. 32.",
                                    "Rendelések száma": "15"
                                },
                                {
                                    "Számlázási cím": "1077 Budapest, Fő u. 2.",
                                    "Rendelések száma": "15"
                                },
                                {
                                    "Számlázási cím": "3973 Cigánd, Fő u. 2.",
                                    "Rendelések száma": "15"
                                },
                                {
                                    "Számlázási cím": "3973 Cigánd, Kiss u. 32.",
                                    "Rendelések száma": "15"
                                },
                                {
                                    "Számlázási cím": "4231 Bököny, Fő u. 2.",
                                    "Rendelések száma": "15"
                                },
                                {
                                    "Számlázási cím": "4440 Tiszavasvári, Kiss u. 32.",
                                    "Rendelések száma": "15"
                                },
                                {
                                    "Számlázási cím": "4231 Bököny, Kiss u. 32.",
                                    "Rendelések száma": "16"
                                },
                                {
                                    "Számlázási cím": "4060 Balmazújváros, Fő u. 2.",
                                    "Rendelések száma": "16"
                                },
                                {
                                    "Számlázási cím": "2000 Szentendre, Kiss u. 32.",
                                    "Rendelések száma": "16"
                                },
                                {
                                    "Számlázási cím": "1183 Budapest, Fő u. 2.",
                                    "Rendelések száma": "16"
                                },
                                {
                                    "Számlázási cím": "2484 Agárd, Kiss u. 32.",
                                    "Rendelések száma": "16"
                                },
                                {
                                    "Számlázási cím": "8313 Balatongyörök, Kiss u. 32.",
                                    "Rendelések száma": "16"
                                },
                                {
                                    "Számlázási cím": "9181 Kimle, Kiss u. 32.",
                                    "Rendelések száma": "16"
                                },
                                {
                                    "Számlázási cím": "9653 Répcelak, Kiss u. 32.",
                                    "Rendelések száma": "16"
                                },
                                {
                                    "Számlázási cím": "7149 Báta, Kiss u. 32.",
                                    "Rendelések száma": "16"
                                },
                                {
                                    "Számlázási cím": "6050 Lajosmizse, Fő u. 2.",
                                    "Rendelések száma": "16"
                                },
                                {
                                    "Számlázási cím": "6430 Bácsalmás, Fő u. 2.",
                                    "Rendelések száma": "17"
                                },
                                {
                                    "Számlázási cím": "6913 Csanádpalota, Kiss u. 32.",
                                    "Rendelések száma": "17"
                                },
                                {
                                    "Számlázási cím": "9155 Lébény, Kiss u. 32.",
                                    "Rendelések száma": "17"
                                },
                                {
                                    "Számlázási cím": "1183 Budapest, Kiss u. 32.",
                                    "Rendelések száma": "17"
                                },
                                {
                                    "Számlázási cím": "1077 Budapest, Kiss u. 32.",
                                    "Rendelések száma": "17"
                                },
                                {
                                    "Számlázási cím": "2700 Cegléd, Fő u. 2.",
                                    "Rendelések száma": "17"
                                },
                                {
                                    "Számlázási cím": "2730 Albertirsa, Fő u. 2.",
                                    "Rendelések száma": "17"
                                },
                                {
                                    "Számlázási cím": "2730 Albertirsa, Kiss u. 32.",
                                    "Rendelések száma": "17"
                                },
                                {
                                    "Számlázási cím": "4400 Nyíregyháza, Fő u. 2.",
                                    "Rendelések száma": "17"
                                },
                                {
                                    "Számlázási cím": "2855 Bokod, Fő u. 2.",
                                    "Rendelések száma": "18"
                                },
                                {
                                    "Számlázási cím": "2855 Bokod, Kiss u. 32.",
                                    "Rendelések száma": "18"
                                },
                                {
                                    "Számlázási cím": "3643 Dédestapolcsány, Fő u. 2.",
                                    "Rendelések száma": "18"
                                },
                                {
                                    "Számlázási cím": "1149 Budapest, Fő u. 2.",
                                    "Rendelések száma": "18"
                                },
                                {
                                    "Számlázási cím": "2462 Martonvásár, Fő u. 2.",
                                    "Rendelések száma": "18"
                                },
                                {
                                    "Számlázási cím": "5931 Nagyszénás, Fő u. 2.",
                                    "Rendelések száma": "18"
                                },
                                {
                                    "Számlázási cím": "5630 Békés, Kiss u. 32.",
                                    "Rendelések száma": "19"
                                },
                                {
                                    "Számlázási cím": "5310 Kisújszállás, Kiss u. 32.",
                                    "Rendelések száma": "19"
                                },
                                {
                                    "Számlázási cím": "6913 Csanádpalota, Fő u. 2.",
                                    "Rendelések száma": "19"
                                },
                                {
                                    "Számlázási cím": "7149 Báta, Fő u. 2.",
                                    "Rendelések száma": "19"
                                },
                                {
                                    "Számlázási cím": "8200 Veszprém, Kiss u. 32.",
                                    "Rendelések száma": "19"
                                },
                                {
                                    "Számlázási cím": "1102 Budapest, Kiss u. 32.",
                                    "Rendelések száma": "19"
                                },
                                {
                                    "Számlázási cím": "1173 Budapest, Fő u. 2.",
                                    "Rendelések száma": "19"
                                },
                                {
                                    "Számlázási cím": "4440 Tiszavasvári, Fő u. 2.",
                                    "Rendelések száma": "19"
                                },
                                {
                                    "Számlázási cím": "5137 Jászkisér, Nagy u.14.",
                                    "Rendelések száma": "20"
                                },
                                {
                                    "Számlázási cím": "3643 Dédestapolcsány, Kiss u. 32.",
                                    "Rendelések száma": "20"
                                },
                                {
                                    "Számlázási cím": "1192 Budapest, Kiss u. 32.",
                                    "Rendelések száma": "20"
                                },
                                {
                                    "Számlázási cím": "7086 Ozora, Kiss u. 32.",
                                    "Rendelések száma": "20"
                                },
                                {
                                    "Számlázási cím": "8313 Balatongyörök, Fő u. 2.",
                                    "Rendelések száma": "21"
                                },
                                {
                                    "Számlázási cím": "7396 Magyarszék, Fő u. 2.",
                                    "Rendelések száma": "21"
                                },
                                {
                                    "Számlázási cím": "9653 Répcelak, Fő u. 2.",
                                    "Rendelések száma": "21"
                                },
                                {
                                    "Számlázási cím": "2424 Előszállás, Fő u. 2.",
                                    "Rendelések száma": "21"
                                },
                                {
                                    "Számlázási cím": "4400 Nyíregyháza, Kiss u. 32.",
                                    "Rendelések száma": "21"
                                },
                                {
                                    "Számlázási cím": "5065 Nagykörű, Fő u. 2.",
                                    "Rendelések száma": "22"
                                },
                                {
                                    "Számlázási cím": "3580 Tiszaújváros, Fő u. 2.",
                                    "Rendelések száma": "22"
                                },
                                {
                                    "Számlázási cím": "2300 Ráckeve, Fő u. 2.",
                                    "Rendelések száma": "22"
                                },
                                {
                                    "Számlázási cím": "2100 Gödöllő, Kiss u. 32.",
                                    "Rendelések száma": "22"
                                },
                                {
                                    "Számlázási cím": "8200 Veszprém, Fő u. 2.",
                                    "Rendelések száma": "22"
                                },
                                {
                                    "Számlázási cím": "6700 Szeged, Kiss u. 32.",
                                    "Rendelések száma": "22"
                                },
                                {
                                    "Számlázási cím": "5537 Zsadány, Fő u. 2.",
                                    "Rendelések száma": "22"
                                },
                                {
                                    "Számlázási cím": "5310 Kisújszállás, Fő u. 2.",
                                    "Rendelések száma": "23"
                                },
                                {
                                    "Számlázási cím": "6760 Kistelek, Fő u. 2.",
                                    "Rendelések száma": "23"
                                },
                                {
                                    "Számlázási cím": "6700 Szeged, Fő u. 2.",
                                    "Rendelések száma": "23"
                                },
                                {
                                    "Számlázási cím": "7900 Szigetvár, Fő u. 2.",
                                    "Rendelések száma": "23"
                                },
                                {
                                    "Számlázási cím": "1102 Budapest, Fő u. 2.",
                                    "Rendelések száma": "23"
                                },
                                {
                                    "Számlázási cím": "5200 Törökszentmiklós, Kiss u. 32.",
                                    "Rendelések száma": "25"
                                },
                                {
                                    "Számlázási cím": "5920 Csorvás, Fő u. 2.",
                                    "Rendelések száma": "25"
                                },
                                {
                                    "Számlázási cím": "9181 Kimle, Fő u. 2.",
                                    "Rendelések száma": "26"
                                },
                                {
                                    "Számlázási cím": "7960 Sellye, Fő u. 2.",
                                    "Rendelések száma": "27"
                                },
                                {
                                    "Számlázási cím": "6646 Tömörkény, Fő u. 2.",
                                    "Rendelések száma": "27"
                                },
                                {
                                    "Számlázási cím": "6786 Ruzsa, Kiss u. 32.",
                                    "Rendelések száma": "27"
                                },
                                {
                                    "Számlázási cím": "2100 Gödöllő, Fő u. 2.",
                                    "Rendelések száma": "27"
                                },
                                {
                                    "Számlázási cím": "2484 Agárd, Fő u. 2.",
                                    "Rendelések száma": "28"
                                },
                                {
                                    "Számlázási cím": "6786 Ruzsa, Fő u. 2.",
                                    "Rendelések száma": "28"
                                },
                                {
                                    "Számlázási cím": "5071 Besenyszög, Fő u. 2.",
                                    "Rendelések száma": "29"
                                },
                                {
                                    "Számlázási cím": "5200 Törökszentmiklós, Fő u. 2.",
                                    "Rendelések száma": "39"
                                },
                                {
                                    "Számlázási cím": "5137 Jászkisér, Kiss u. 32.",
                                    "Rendelések száma": "40"
                                },
                                {
                                    "Számlázási cím": "9023 Győr, Kiss u. 32.",
                                    "Rendelések száma": "41"
                                },
                                {
                                    "Számlázási cím": "5137 Jászkisér, Fő u. 2.",
                                    "Rendelések száma": "54"
                                },
                                {
                                    "Számlázási cím": "9023 Győr, Fő u. 2.",
                                    "Rendelések száma": "61"
                                }
                            ]
                        },
                        "text/html": [
                            "<table>",
                            "<tr><th>Számlázási cím</th><th>Rendelések száma</th></tr>",
                            "<tr><td>1035 Budapest, Nagy u.14.</td><td>1</td></tr>",
                            "<tr><td>1047 Budapest, Fő u. 2.</td><td>1</td></tr>",
                            "<tr><td>1047 Budapest, Kiss u. 32.</td><td>1</td></tr>",
                            "<tr><td>1047 Budapest, Nagy u.14.</td><td>1</td></tr>",
                            "<tr><td>1067 Budapest, Kiss u. 32.</td><td>1</td></tr>",
                            "<tr><td>1067 Budapest, Nagy u.14.</td><td>1</td></tr>",
                            "<tr><td>1084 Budapest, Nagy u.14.</td><td>1</td></tr>",
                            "<tr><td>1124 Budapest, Fő u. 2.</td><td>1</td></tr>",
                            "<tr><td>1124 Budapest, Kiss u. 32.</td><td>1</td></tr>",
                            "<tr><td>1155 Budapest, Nagy u.14.</td><td>1</td></tr>",
                            "<tr><td>2053 Herceghalom, Fő u. 2.</td><td>1</td></tr>",
                            "<tr><td>2053 Herceghalom, Kiss u. 32.</td><td>1</td></tr>",
                            "<tr><td>2117 Isaszeg, Kiss u. 32.</td><td>1</td></tr>",
                            "<tr><td>2131 Göd, Fő u. 2.</td><td>1</td></tr>",
                            "<tr><td>2131 Göd, Kiss u. 32.</td><td>1</td></tr>",
                            "<tr><td>2330 Dunaharaszti, Kiss u. 32.</td><td>1</td></tr>",
                            "<tr><td>2370 Dabas, Kiss u. 32.</td><td>1</td></tr>",
                            "<tr><td>2381 Táborfalva, Kiss u. 32.</td><td>1</td></tr>",
                            "<tr><td>2800 Tatabánya, Fő u. 2.</td><td>1</td></tr>",
                            "<tr><td>2800 Tatabánya, Nagy u.14.</td><td>1</td></tr>",
                            "<tr><td>3300 Eger, Nagy u.14.</td><td>1</td></tr>",
                            "<tr><td>3500 Miskolc, Kiss u. 32.</td><td>1</td></tr>",
                            "<tr><td>3630 Putnok, Fő u. 2.</td><td>1</td></tr>",
                            "<tr><td>3630 Putnok, Kiss u. 32.</td><td>1</td></tr>",
                            "<tr><td>3783 Edelény, Fő u. 2.</td><td>1</td></tr>",
                            "<tr><td>3860 Encs, Nagy u.14.</td><td>1</td></tr>",
                            "<tr><td>3895 Gönc, Fő u. 2.</td><td>1</td></tr>",
                            "<tr><td>3895 Gönc, Kiss u. 32.</td><td>1</td></tr>",
                            "<tr><td>3910 Tokaj, Kiss u. 32.</td><td>1</td></tr>",
                            "<tr><td>3980 Sátoraljaújhely, Fő u. 2.</td><td>1</td></tr>",
                            "<tr><td>4200 Hajdúszoboszló, Fő u. 2.</td><td>1</td></tr>",
                            "<tr><td>4200 Hajdúszoboszló, Kiss u. 32.</td><td>1</td></tr>",
                            "<tr><td>4071 Egyek, Fő u. 2.</td><td>1</td></tr>",
                            "<tr><td>4600 Kisvárda, Fő u. 2.</td><td>1</td></tr>",
                            "<tr><td>4800 Vásárosnamény, Fő u. 2.</td><td>1</td></tr>",
                            "<tr><td>5083 Kengyel, Nagy u.14.</td><td>1</td></tr>",
                            "<tr><td>5085 Rákóczifalva, Kiss u. 32.</td><td>1</td></tr>",
                            "<tr><td>5465 Cserkeszőlő, Fő u. 2.</td><td>1</td></tr>",
                            "<tr><td>5530 Vésztő, Nagy u.14.</td><td>1</td></tr>",
                            "<tr><td>5940 Tótkomlós, Fő u. 2.</td><td>1</td></tr>",
                            "<tr><td>5940 Tótkomlós, Kiss u. 32.</td><td>1</td></tr>",
                            "<tr><td>5940 Tótkomlós, Nagy u.14.</td><td>1</td></tr>",
                            "<tr><td>6131 Szank, Fő u. 2.</td><td>1</td></tr>",
                            "<tr><td>6131 Szank, Kiss u. 32.</td><td>1</td></tr>",
                            "<tr><td>6500 Baja, Fő u. 2.</td><td>1</td></tr>",
                            "<tr><td>6500 Baja, Kiss u. 32.</td><td>1</td></tr>",
                            "<tr><td>6762 Sándorfalva, Fő u. 2.</td><td>1</td></tr>",
                            "<tr><td>6762 Sándorfalva, Kiss u. 32.</td><td>1</td></tr>",
                            "<tr><td>6900 Makó, Kiss u. 32.</td><td>1</td></tr>",
                            "<tr><td>7000 Sárbogárd, Fő u. 2.</td><td>1</td></tr>",
                            "<tr><td>7000 Sárbogárd, Kiss u. 32.</td><td>1</td></tr>",
                            "<tr><td>7150 Bonyhád, Kiss u. 32.</td><td>1</td></tr>",
                            "<tr><td>7220 Sarkad, Kiss u. 32.</td><td>1</td></tr>",
                            "<tr><td>7349 Szászvár, Fő u. 2.</td><td>1</td></tr>",
                            "<tr><td>7349 Szászvár, Kiss u. 32.</td><td>1</td></tr>",
                            "<tr><td>7511 Ötvöskónyi, Kiss u. 32.</td><td>1</td></tr>",
                            "<tr><td>7511 Ötvöskónyi, Nagy u.14.</td><td>1</td></tr>",
                            "<tr><td>8220 Balatonalmádi, Fő u. 2.</td><td>1</td></tr>",
                            "<tr><td>8220 Balatonalmádi, Kiss u. 32.</td><td>1</td></tr>",
                            "<tr><td>8237 Tihany, Fő u. 2.</td><td>1</td></tr>",
                            "<tr><td>8237 Tihany, Kiss u. 32.</td><td>1</td></tr>",
                            "<tr><td>8237 Tihany, Nagy u.14.</td><td>1</td></tr>",
                            "<tr><td>8254 Kővágóörs, Kiss u. 32.</td><td>1</td></tr>",
                            "<tr><td>8283 Káptalantóti, Fő u. 2.</td><td>1</td></tr>",
                            "<tr><td>8391 Sármellék, Kiss u. 32.</td><td>1</td></tr>",
                            "<tr><td>8630 Balatonboglár, Fő u. 2.</td><td>1</td></tr>",
                            "<tr><td>8638 Balatonlelle, Kiss u. 32.</td><td>1</td></tr>",
                            "<tr><td>8640 Fonyód, Fő u. 2.</td><td>1</td></tr>",
                            "<tr><td>8640 Fonyód, Kiss u. 32.</td><td>1</td></tr>",
                            "<tr><td>8800 Nagykanizsa, Fő u. 2.</td><td>1</td></tr>",
                            "<tr><td>8800 Nagykanizsa, Kiss u. 32.</td><td>1</td></tr>",
                            "<tr><td>8315 Gyenesdiás, Fő u. 2.</td><td>1</td></tr>",
                            "<tr><td>9970 Szentgotthárd, Kiss u. 32.</td><td>1</td></tr>",
                            "<tr><td>9970 Szentgotthárd, Nagy u.14.</td><td>1</td></tr>",
                            "<tr><td>9071 Görbeháza, Fő u. 2.</td><td>2</td></tr>",
                            "<tr><td>8200 Veszprém, Nagy u.14.</td><td>2</td></tr>",
                            "<tr><td>7220 Sarkad, Fő u. 2.</td><td>2</td></tr>",
                            "<tr><td>7150 Bonyhád, Fő u. 2.</td><td>2</td></tr>",
                            "<tr><td>7133 Fadd, Nagy u.14.</td><td>2</td></tr>",
                            "<tr><td>7130 Tolna, Fő u. 2.</td><td>2</td></tr>",
                            "<tr><td>7130 Tolna, Kiss u. 32.</td><td>2</td></tr>",
                            "<tr><td>6060 Tiszakécske, Fő u. 2.</td><td>2</td></tr>",
                            "<tr><td>5530 Vésztő, Fő u. 2.</td><td>2</td></tr>",
                            "<tr><td>4800 Vásárosnamény, Kiss u. 32.</td><td>2</td></tr>",
                            "<tr><td>4172 Biharnagybajom, Kiss u. 32.</td><td>2</td></tr>",
                            "<tr><td>3910 Tokaj, Fő u. 2.</td><td>2</td></tr>",
                            "<tr><td>2532 Tokodaltáró, Kiss u. 32.</td><td>2</td></tr>",
                            "<tr><td>2600 Vác, Kiss u. 32.</td><td>2</td></tr>",
                            "<tr><td>2370 Dabas, Nagy u.14.</td><td>2</td></tr>",
                            "<tr><td>2377 Örkény, Fő u. 2.</td><td>2</td></tr>",
                            "<tr><td>2370 Dabas, Fő u. 2.</td><td>2</td></tr>",
                            "<tr><td>2330 Dunaharaszti, Fő u. 2.</td><td>2</td></tr>",
                            "<tr><td>2115 Vácszentlászló, Kiss u. 32.</td><td>2</td></tr>",
                            "<tr><td>2115 Vácszentlászló, Nagy u.14.</td><td>2</td></tr>",
                            "<tr><td>1102 Budapest, Nagy u.14.</td><td>2</td></tr>",
                            "<tr><td>1107 Budapest, Kiss u. 32.</td><td>2</td></tr>",
                            "<tr><td>1035 Budapest, Fő u. 2.</td><td>2</td></tr>",
                            "<tr><td>1072 Budapest, Fő u. 2.</td><td>2</td></tr>",
                            "<tr><td>1067 Budapest, Fő u. 2.</td><td>2</td></tr>",
                            "<tr><td>1035 Budapest, Kiss u. 32.</td><td>3</td></tr>",
                            "<tr><td>1011 Budapest, Kiss u. 32.</td><td>3</td></tr>",
                            "<tr><td>1192 Budapest, Nagy u.14.</td><td>3</td></tr>",
                            "<tr><td>2117 Isaszeg, Fő u. 2.</td><td>3</td></tr>",
                            "<tr><td>2115 Vácszentlászló, Fő u. 2.</td><td>3</td></tr>",
                            "<tr><td>2424 Előszállás, Nagy u.14.</td><td>3</td></tr>",
                            "<tr><td>2300 Ráckeve, Nagy u.14.</td><td>3</td></tr>",
                            "<tr><td>2484 Agárd, Nagy u.14.</td><td>3</td></tr>",
                            "<tr><td>3973 Cigánd, Nagy u.14.</td><td>3</td></tr>",
                            "<tr><td>4071 Egyek, Kiss u. 32.</td><td>3</td></tr>",
                            "<tr><td>4231 Bököny, Nagy u.14.</td><td>3</td></tr>",
                            "<tr><td>5061 Tiszasüly, Nagy u.14.</td><td>3</td></tr>",
                            "<tr><td>6412 Balotaszállás, Fő u. 2.</td><td>3</td></tr>",
                            "<tr><td>6760 Kistelek, Nagy u.14.</td><td>3</td></tr>",
                            "<tr><td>8283 Káptalantóti, Kiss u. 32.</td><td>3</td></tr>",
                            "<tr><td>8391 Sármellék, Fő u. 2.</td><td>3</td></tr>",
                            "<tr><td>8313 Balatongyörök, Nagy u.14.</td><td>3</td></tr>",
                            "<tr><td>9653 Répcelak, Nagy u.14.</td><td>4</td></tr>",
                            "<tr><td>8254 Kővágóörs, Fő u. 2.</td><td>4</td></tr>",
                            "<tr><td>7149 Báta, Nagy u.14.</td><td>4</td></tr>",
                            "<tr><td>5310 Kisújszállás, Nagy u.14.</td><td>4</td></tr>",
                            "<tr><td>4400 Nyíregyháza, Nagy u.14.</td><td>4</td></tr>",
                            "<tr><td>3643 Dédestapolcsány, Nagy u.14.</td><td>4</td></tr>",
                            "<tr><td>2241 Sülysáp, Nagy u.14.</td><td>4</td></tr>",
                            "<tr><td>2100 Gödöllő, Nagy u.14.</td><td>4</td></tr>",
                            "<tr><td>2000 Szentendre, Nagy u.14.</td><td>4</td></tr>",
                            "<tr><td>1183 Budapest, Nagy u.14.</td><td>4</td></tr>",
                            "<tr><td>1173 Budapest, Nagy u.14.</td><td>5</td></tr>",
                            "<tr><td>2085 Pilisvörösvár, Nagy u.14.</td><td>5</td></tr>",
                            "<tr><td>3580 Tiszaújváros, Nagy u.14.</td><td>5</td></tr>",
                            "<tr><td>2700 Cegléd, Nagy u.14.</td><td>5</td></tr>",
                            "<tr><td>2855 Bokod, Nagy u.14.</td><td>5</td></tr>",
                            "<tr><td>5065 Nagykörű, Nagy u.14.</td><td>5</td></tr>",
                            "<tr><td>5537 Zsadány, Nagy u.14.</td><td>5</td></tr>",
                            "<tr><td>5931 Nagyszénás, Nagy u.14.</td><td>5</td></tr>",
                            "<tr><td>6700 Szeged, Nagy u.14.</td><td>5</td></tr>",
                            "<tr><td>7960 Sellye, Nagy u.14.</td><td>5</td></tr>",
                            "<tr><td>9181 Kimle, Nagy u.14.</td><td>5</td></tr>",
                            "<tr><td>5920 Csorvás, Nagy u.14.</td><td>6</td></tr>",
                            "<tr><td>4440 Tiszavasvári, Nagy u.14.</td><td>6</td></tr>",
                            "<tr><td>4244 Újfehértó, Nagy u.14.</td><td>6</td></tr>",
                            "<tr><td>1077 Budapest, Nagy u.14.</td><td>6</td></tr>",
                            "<tr><td>1149 Budapest, Nagy u.14.</td><td>7</td></tr>",
                            "<tr><td>5071 Besenyszög, Nagy u.14.</td><td>7</td></tr>",
                            "<tr><td>2730 Albertirsa, Nagy u.14.</td><td>7</td></tr>",
                            "<tr><td>4060 Balmazújváros, Nagy u.14.</td><td>7</td></tr>",
                            "<tr><td>5630 Békés, Nagy u.14.</td><td>7</td></tr>",
                            "<tr><td>6913 Csanádpalota, Nagy u.14.</td><td>7</td></tr>",
                            "<tr><td>9155 Lébény, Nagy u.14.</td><td>7</td></tr>",
                            "<tr><td>7900 Szigetvár, Nagy u.14.</td><td>7</td></tr>",
                            "<tr><td>7396 Magyarszék, Nagy u.14.</td><td>7</td></tr>",
                            "<tr><td>9023 Győr, Nagy u.14.</td><td>8</td></tr>",
                            "<tr><td>7100 Szekszárd, Nagy u.14.</td><td>8</td></tr>",
                            "<tr><td>6080 Szabadszállás, Nagy u.14.</td><td>8</td></tr>",
                            "<tr><td>6050 Lajosmizse, Nagy u.14.</td><td>8</td></tr>",
                            "<tr><td>3580 Tiszaújváros, Kiss u. 32.</td><td>8</td></tr>",
                            "<tr><td>4244 Újfehértó, Kiss u. 32.</td><td>8</td></tr>",
                            "<tr><td>1192 Budapest, Fő u. 2.</td><td>8</td></tr>",
                            "<tr><td>2462 Martonvásár, Nagy u.14.</td><td>9</td></tr>",
                            "<tr><td>6430 Bácsalmás, Nagy u.14.</td><td>9</td></tr>",
                            "<tr><td>6646 Tömörkény, Nagy u.14.</td><td>9</td></tr>",
                            "<tr><td>7086 Ozora, Nagy u.14.</td><td>9</td></tr>",
                            "<tr><td>5200 Törökszentmiklós, Nagy u.14.</td><td>10</td></tr>",
                            "<tr><td>6430 Bácsalmás, Kiss u. 32.</td><td>11</td></tr>",
                            "<tr><td>6080 Szabadszállás, Kiss u. 32.</td><td>11</td></tr>",
                            "<tr><td>7960 Sellye, Kiss u. 32.</td><td>11</td></tr>",
                            "<tr><td>4060 Balmazújváros, Kiss u. 32.</td><td>11</td></tr>",
                            "<tr><td>5061 Tiszasüly, Kiss u. 32.</td><td>12</td></tr>",
                            "<tr><td>5065 Nagykörű, Kiss u. 32.</td><td>12</td></tr>",
                            "<tr><td>2085 Pilisvörösvár, Kiss u. 32.</td><td>12</td></tr>",
                            "<tr><td>1173 Budapest, Kiss u. 32.</td><td>12</td></tr>",
                            "<tr><td>6760 Kistelek, Kiss u. 32.</td><td>12</td></tr>",
                            "<tr><td>7100 Szekszárd, Kiss u. 32.</td><td>12</td></tr>",
                            "<tr><td>6786 Ruzsa, Nagy u.14.</td><td>12</td></tr>",
                            "<tr><td>5537 Zsadány, Kiss u. 32.</td><td>12</td></tr>",
                            "<tr><td>5630 Békés, Fő u. 2.</td><td>13</td></tr>",
                            "<tr><td>6080 Szabadszállás, Fő u. 2.</td><td>13</td></tr>",
                            "<tr><td>5931 Nagyszénás, Kiss u. 32.</td><td>13</td></tr>",
                            "<tr><td>6646 Tömörkény, Kiss u. 32.</td><td>13</td></tr>",
                            "<tr><td>7900 Szigetvár, Kiss u. 32.</td><td>13</td></tr>",
                            "<tr><td>7133 Fadd, Kiss u. 32.</td><td>13</td></tr>",
                            "<tr><td>2000 Szentendre, Fő u. 2.</td><td>13</td></tr>",
                            "<tr><td>2085 Pilisvörösvár, Fő u. 2.</td><td>13</td></tr>",
                            "<tr><td>2462 Martonvásár, Kiss u. 32.</td><td>13</td></tr>",
                            "<tr><td>2424 Előszállás, Kiss u. 32.</td><td>13</td></tr>",
                            "<tr><td>2300 Ráckeve, Kiss u. 32.</td><td>13</td></tr>",
                            "<tr><td>5061 Tiszasüly, Fő u. 2.</td><td>13</td></tr>",
                            "<tr><td>5071 Besenyszög, Kiss u. 32.</td><td>14</td></tr>",
                            "<tr><td>4244 Újfehértó, Fő u. 2.</td><td>14</td></tr>",
                            "<tr><td>2700 Cegléd, Kiss u. 32.</td><td>14</td></tr>",
                            "<tr><td>2241 Sülysáp, Kiss u. 32.</td><td>14</td></tr>",
                            "<tr><td>7100 Szekszárd, Fő u. 2.</td><td>14</td></tr>",
                            "<tr><td>6050 Lajosmizse, Kiss u. 32.</td><td>14</td></tr>",
                            "<tr><td>5920 Csorvás, Kiss u. 32.</td><td>15</td></tr>",
                            "<tr><td>7133 Fadd, Fő u. 2.</td><td>15</td></tr>",
                            "<tr><td>7086 Ozora, Fő u. 2.</td><td>15</td></tr>",
                            "<tr><td>7396 Magyarszék, Kiss u. 32.</td><td>15</td></tr>",
                            "<tr><td>9155 Lébény, Fő u. 2.</td><td>15</td></tr>",
                            "<tr><td>2241 Sülysáp, Fő u. 2.</td><td>15</td></tr>",
                            "<tr><td>1149 Budapest, Kiss u. 32.</td><td>15</td></tr>",
                            "<tr><td>1077 Budapest, Fő u. 2.</td><td>15</td></tr>",
                            "<tr><td>3973 Cigánd, Fő u. 2.</td><td>15</td></tr>",
                            "<tr><td>3973 Cigánd, Kiss u. 32.</td><td>15</td></tr>",
                            "<tr><td>4231 Bököny, Fő u. 2.</td><td>15</td></tr>",
                            "<tr><td>4440 Tiszavasvári, Kiss u. 32.</td><td>15</td></tr>",
                            "<tr><td>4231 Bököny, Kiss u. 32.</td><td>16</td></tr>",
                            "<tr><td>4060 Balmazújváros, Fő u. 2.</td><td>16</td></tr>",
                            "<tr><td>2000 Szentendre, Kiss u. 32.</td><td>16</td></tr>",
                            "<tr><td>1183 Budapest, Fő u. 2.</td><td>16</td></tr>",
                            "<tr><td>2484 Agárd, Kiss u. 32.</td><td>16</td></tr>",
                            "<tr><td>8313 Balatongyörök, Kiss u. 32.</td><td>16</td></tr>",
                            "<tr><td>9181 Kimle, Kiss u. 32.</td><td>16</td></tr>",
                            "<tr><td>9653 Répcelak, Kiss u. 32.</td><td>16</td></tr>",
                            "<tr><td>7149 Báta, Kiss u. 32.</td><td>16</td></tr>",
                            "<tr><td>6050 Lajosmizse, Fő u. 2.</td><td>16</td></tr>",
                            "<tr><td>6430 Bácsalmás, Fő u. 2.</td><td>17</td></tr>",
                            "<tr><td>6913 Csanádpalota, Kiss u. 32.</td><td>17</td></tr>",
                            "<tr><td>9155 Lébény, Kiss u. 32.</td><td>17</td></tr>",
                            "<tr><td>1183 Budapest, Kiss u. 32.</td><td>17</td></tr>",
                            "<tr><td>1077 Budapest, Kiss u. 32.</td><td>17</td></tr>",
                            "<tr><td>2700 Cegléd, Fő u. 2.</td><td>17</td></tr>",
                            "<tr><td>2730 Albertirsa, Fő u. 2.</td><td>17</td></tr>",
                            "<tr><td>2730 Albertirsa, Kiss u. 32.</td><td>17</td></tr>",
                            "<tr><td>4400 Nyíregyháza, Fő u. 2.</td><td>17</td></tr>",
                            "<tr><td>2855 Bokod, Fő u. 2.</td><td>18</td></tr>",
                            "<tr><td>2855 Bokod, Kiss u. 32.</td><td>18</td></tr>",
                            "<tr><td>3643 Dédestapolcsány, Fő u. 2.</td><td>18</td></tr>",
                            "<tr><td>1149 Budapest, Fő u. 2.</td><td>18</td></tr>",
                            "<tr><td>2462 Martonvásár, Fő u. 2.</td><td>18</td></tr>",
                            "<tr><td>5931 Nagyszénás, Fő u. 2.</td><td>18</td></tr>",
                            "<tr><td>5630 Békés, Kiss u. 32.</td><td>19</td></tr>",
                            "<tr><td>5310 Kisújszállás, Kiss u. 32.</td><td>19</td></tr>",
                            "<tr><td>6913 Csanádpalota, Fő u. 2.</td><td>19</td></tr>",
                            "<tr><td>7149 Báta, Fő u. 2.</td><td>19</td></tr>",
                            "<tr><td>8200 Veszprém, Kiss u. 32.</td><td>19</td></tr>",
                            "<tr><td>1102 Budapest, Kiss u. 32.</td><td>19</td></tr>",
                            "<tr><td>1173 Budapest, Fő u. 2.</td><td>19</td></tr>",
                            "<tr><td>4440 Tiszavasvári, Fő u. 2.</td><td>19</td></tr>",
                            "<tr><td>5137 Jászkisér, Nagy u.14.</td><td>20</td></tr>",
                            "<tr><td>3643 Dédestapolcsány, Kiss u. 32.</td><td>20</td></tr>",
                            "<tr><td>1192 Budapest, Kiss u. 32.</td><td>20</td></tr>",
                            "<tr><td>7086 Ozora, Kiss u. 32.</td><td>20</td></tr>",
                            "<tr><td>8313 Balatongyörök, Fő u. 2.</td><td>21</td></tr>",
                            "<tr><td>7396 Magyarszék, Fő u. 2.</td><td>21</td></tr>",
                            "<tr><td>9653 Répcelak, Fő u. 2.</td><td>21</td></tr>",
                            "<tr><td>2424 Előszállás, Fő u. 2.</td><td>21</td></tr>",
                            "<tr><td>4400 Nyíregyháza, Kiss u. 32.</td><td>21</td></tr>",
                            "<tr><td>5065 Nagykörű, Fő u. 2.</td><td>22</td></tr>",
                            "<tr><td>3580 Tiszaújváros, Fő u. 2.</td><td>22</td></tr>",
                            "<tr><td>2300 Ráckeve, Fő u. 2.</td><td>22</td></tr>",
                            "<tr><td>2100 Gödöllő, Kiss u. 32.</td><td>22</td></tr>",
                            "<tr><td>8200 Veszprém, Fő u. 2.</td><td>22</td></tr>",
                            "<tr><td>6700 Szeged, Kiss u. 32.</td><td>22</td></tr>",
                            "<tr><td>5537 Zsadány, Fő u. 2.</td><td>22</td></tr>",
                            "<tr><td>5310 Kisújszállás, Fő u. 2.</td><td>23</td></tr>",
                            "<tr><td>6760 Kistelek, Fő u. 2.</td><td>23</td></tr>",
                            "<tr><td>6700 Szeged, Fő u. 2.</td><td>23</td></tr>",
                            "<tr><td>7900 Szigetvár, Fő u. 2.</td><td>23</td></tr>",
                            "<tr><td>1102 Budapest, Fő u. 2.</td><td>23</td></tr>",
                            "<tr><td>5200 Törökszentmiklós, Kiss u. 32.</td><td>25</td></tr>",
                            "<tr><td>5920 Csorvás, Fő u. 2.</td><td>25</td></tr>",
                            "<tr><td>9181 Kimle, Fő u. 2.</td><td>26</td></tr>",
                            "<tr><td>7960 Sellye, Fő u. 2.</td><td>27</td></tr>",
                            "<tr><td>6646 Tömörkény, Fő u. 2.</td><td>27</td></tr>",
                            "<tr><td>6786 Ruzsa, Kiss u. 32.</td><td>27</td></tr>",
                            "<tr><td>2100 Gödöllő, Fő u. 2.</td><td>27</td></tr>",
                            "<tr><td>2484 Agárd, Fő u. 2.</td><td>28</td></tr>",
                            "<tr><td>6786 Ruzsa, Fő u. 2.</td><td>28</td></tr>",
                            "<tr><td>5071 Besenyszög, Fő u. 2.</td><td>29</td></tr>",
                            "<tr><td>5200 Törökszentmiklós, Fő u. 2.</td><td>39</td></tr>",
                            "<tr><td>5137 Jászkisér, Kiss u. 32.</td><td>40</td></tr>",
                            "<tr><td>9023 Győr, Kiss u. 32.</td><td>41</td></tr>",
                            "<tr><td>5137 Jászkisér, Fő u. 2.</td><td>54</td></tr>",
                            "<tr><td>9023 Győr, Fő u. 2.</td><td>61</td></tr>",
                            "</table>"
                        ]
                    }
                }
            ],
            "execution_count": 18
        }
    ]
}
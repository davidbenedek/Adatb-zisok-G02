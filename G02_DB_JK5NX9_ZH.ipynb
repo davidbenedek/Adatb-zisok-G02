{
    "metadata": {
        "kernelspec": {
            "name": "SQL",
            "display_name": "SQL",
            "language": "sql"
        },
        "language_info": {
            "name": "sql",
            "version": ""
        }
    },
    "nbformat_minor": 2,
    "nbformat": 4,
    "cells": [
        {
            "cell_type": "code",
            "source": [
                "\r\n",
                "\r\n",
                "--- 1. Feladat\r\n",
                "\r\n",
                "SELECT DATEDIFF(Year, SZUL_DAT, GETDATE()) AS 'Kor (év)', Count(*) AS 'DB'\r\n",
                "FROM VENDEG v JOIN FOGLALAS f ON v.USERNEV = f.UGYFEL_FK\r\n",
                "WHERE GYERMEK_SZAM = 0\r\n",
                "GROUP BY DATEDIFF(Year, SZUL_DAT, GETDATE())\r\n",
                "HAVING Count(*) >= 5"
            ],
            "metadata": {
                "azdata_cell_guid": "c9bbcc2e-1517-452b-83dc-f06c8206680d",
                "language": "sql",
                "tags": []
            },
            "outputs": [
                {
                    "output_type": "display_data",
                    "data": {
                        "text/html": "(32 rows affected)"
                    },
                    "metadata": {}
                },
                {
                    "output_type": "display_data",
                    "data": {
                        "text/html": "Total execution time: 00:00:00.008"
                    },
                    "metadata": {}
                },
                {
                    "output_type": "execute_result",
                    "metadata": {},
                    "execution_count": 18,
                    "data": {
                        "application/vnd.dataresource+json": {
                            "schema": {
                                "fields": [
                                    {
                                        "name": "Kor (év)"
                                    },
                                    {
                                        "name": "DB"
                                    }
                                ]
                            },
                            "data": [
                                {
                                    "Kor (év)": "27",
                                    "DB": "8"
                                },
                                {
                                    "Kor (év)": "28",
                                    "DB": "32"
                                },
                                {
                                    "Kor (év)": "29",
                                    "DB": "12"
                                },
                                {
                                    "Kor (év)": "30",
                                    "DB": "18"
                                },
                                {
                                    "Kor (év)": "31",
                                    "DB": "8"
                                },
                                {
                                    "Kor (év)": "32",
                                    "DB": "9"
                                },
                                {
                                    "Kor (év)": "33",
                                    "DB": "9"
                                },
                                {
                                    "Kor (év)": "34",
                                    "DB": "16"
                                },
                                {
                                    "Kor (év)": "35",
                                    "DB": "10"
                                },
                                {
                                    "Kor (év)": "36",
                                    "DB": "19"
                                },
                                {
                                    "Kor (év)": "37",
                                    "DB": "8"
                                },
                                {
                                    "Kor (év)": "38",
                                    "DB": "12"
                                },
                                {
                                    "Kor (év)": "39",
                                    "DB": "29"
                                },
                                {
                                    "Kor (év)": "40",
                                    "DB": "10"
                                },
                                {
                                    "Kor (év)": "41",
                                    "DB": "19"
                                },
                                {
                                    "Kor (év)": "42",
                                    "DB": "17"
                                },
                                {
                                    "Kor (év)": "43",
                                    "DB": "14"
                                },
                                {
                                    "Kor (év)": "44",
                                    "DB": "13"
                                },
                                {
                                    "Kor (év)": "45",
                                    "DB": "13"
                                },
                                {
                                    "Kor (év)": "46",
                                    "DB": "16"
                                },
                                {
                                    "Kor (év)": "47",
                                    "DB": "15"
                                },
                                {
                                    "Kor (év)": "48",
                                    "DB": "16"
                                },
                                {
                                    "Kor (év)": "49",
                                    "DB": "17"
                                },
                                {
                                    "Kor (év)": "50",
                                    "DB": "24"
                                },
                                {
                                    "Kor (év)": "51",
                                    "DB": "17"
                                },
                                {
                                    "Kor (év)": "52",
                                    "DB": "16"
                                },
                                {
                                    "Kor (év)": "53",
                                    "DB": "6"
                                },
                                {
                                    "Kor (év)": "54",
                                    "DB": "15"
                                },
                                {
                                    "Kor (év)": "55",
                                    "DB": "14"
                                },
                                {
                                    "Kor (év)": "56",
                                    "DB": "17"
                                },
                                {
                                    "Kor (év)": "57",
                                    "DB": "23"
                                },
                                {
                                    "Kor (év)": "58",
                                    "DB": "21"
                                }
                            ]
                        },
                        "text/html": [
                            "<table>",
                            "<tr><th>Kor (év)</th><th>DB</th></tr>",
                            "<tr><td>27</td><td>8</td></tr>",
                            "<tr><td>28</td><td>32</td></tr>",
                            "<tr><td>29</td><td>12</td></tr>",
                            "<tr><td>30</td><td>18</td></tr>",
                            "<tr><td>31</td><td>8</td></tr>",
                            "<tr><td>32</td><td>9</td></tr>",
                            "<tr><td>33</td><td>9</td></tr>",
                            "<tr><td>34</td><td>16</td></tr>",
                            "<tr><td>35</td><td>10</td></tr>",
                            "<tr><td>36</td><td>19</td></tr>",
                            "<tr><td>37</td><td>8</td></tr>",
                            "<tr><td>38</td><td>12</td></tr>",
                            "<tr><td>39</td><td>29</td></tr>",
                            "<tr><td>40</td><td>10</td></tr>",
                            "<tr><td>41</td><td>19</td></tr>",
                            "<tr><td>42</td><td>17</td></tr>",
                            "<tr><td>43</td><td>14</td></tr>",
                            "<tr><td>44</td><td>13</td></tr>",
                            "<tr><td>45</td><td>13</td></tr>",
                            "<tr><td>46</td><td>16</td></tr>",
                            "<tr><td>47</td><td>15</td></tr>",
                            "<tr><td>48</td><td>16</td></tr>",
                            "<tr><td>49</td><td>17</td></tr>",
                            "<tr><td>50</td><td>24</td></tr>",
                            "<tr><td>51</td><td>17</td></tr>",
                            "<tr><td>52</td><td>16</td></tr>",
                            "<tr><td>53</td><td>6</td></tr>",
                            "<tr><td>54</td><td>15</td></tr>",
                            "<tr><td>55</td><td>14</td></tr>",
                            "<tr><td>56</td><td>17</td></tr>",
                            "<tr><td>57</td><td>23</td></tr>",
                            "<tr><td>58</td><td>21</td></tr>",
                            "</table>"
                        ]
                    }
                }
            ],
            "execution_count": 18
        },
        {
            "cell_type": "code",
            "source": [
                "--- 2. Feladat\r\n",
                "\r\n",
                "SELECT szh.SZALLAS_NEV AS 'Szállás neve', sz.SZOBA_SZAMA AS 'Szoba száma', Count(*) AS 'Foglalasaok száma'\r\n",
                "FROM Foglalas f JOIN SZOBA sz ON f.SZOBA_FK = sz.SZOBA_ID\r\n",
                "JOIN Szallashely szh on sz.SZALLAS_FK = szh.SZALLAS_ID\r\n",
                "GROUP BY szh.SZALLAS_NEV, sz.SZOBA_SZAMA\r\n",
                "HAVING Count(*) > 0\r\n",
                "\r\n",
                ""
            ],
            "metadata": {
                "azdata_cell_guid": "8b8bf182-2705-41ff-b987-746e5624b0b1",
                "language": "sql"
            },
            "outputs": [
                {
                    "output_type": "display_data",
                    "data": {
                        "text/html": "(187 rows affected)"
                    },
                    "metadata": {}
                },
                {
                    "output_type": "display_data",
                    "data": {
                        "text/html": "Total execution time: 00:00:00.019"
                    },
                    "metadata": {}
                },
                {
                    "output_type": "execute_result",
                    "metadata": {},
                    "execution_count": 24,
                    "data": {
                        "application/vnd.dataresource+json": {
                            "schema": {
                                "fields": [
                                    {
                                        "name": "Szállás neve"
                                    },
                                    {
                                        "name": "Szoba száma"
                                    },
                                    {
                                        "name": "Foglalasaok száma"
                                    }
                                ]
                            },
                            "data": [
                                {
                                    "Szállás neve": "Családi Ház",
                                    "Szoba száma": "1",
                                    "Foglalasaok száma": "4"
                                },
                                {
                                    "Szállás neve": "Fortuna Apartman",
                                    "Szoba száma": "1",
                                    "Foglalasaok száma": "6"
                                },
                                {
                                    "Szállás neve": "Fortuna Panzió",
                                    "Szoba száma": "1",
                                    "Foglalasaok száma": "6"
                                },
                                {
                                    "Szállás neve": "Gold Hotel",
                                    "Szoba száma": "1",
                                    "Foglalasaok száma": "7"
                                },
                                {
                                    "Szállás neve": "Hotel Három Hattyú",
                                    "Szoba száma": "1",
                                    "Foglalasaok száma": "4"
                                },
                                {
                                    "Szállás neve": "Jáde panzió",
                                    "Szoba száma": "1",
                                    "Foglalasaok száma": "6"
                                },
                                {
                                    "Szállás neve": "Kentaur Hotel",
                                    "Szoba száma": "1",
                                    "Foglalasaok száma": "4"
                                },
                                {
                                    "Szállás neve": "Lagúna Hotel",
                                    "Szoba száma": "1",
                                    "Foglalasaok száma": "3"
                                },
                                {
                                    "Szállás neve": "Partiszél Vendégház",
                                    "Szoba száma": "1",
                                    "Foglalasaok száma": "5"
                                },
                                {
                                    "Szállás neve": "Sába-Ház",
                                    "Szoba száma": "1",
                                    "Foglalasaok száma": "8"
                                },
                                {
                                    "Szállás neve": "Szieszta Apartmanház",
                                    "Szoba száma": "1",
                                    "Foglalasaok száma": "4"
                                },
                                {
                                    "Szállás neve": "Fortuna Panzió",
                                    "Szoba száma": "10",
                                    "Foglalasaok száma": "11"
                                },
                                {
                                    "Szállás neve": "Gold Hotel",
                                    "Szoba száma": "10",
                                    "Foglalasaok száma": "4"
                                },
                                {
                                    "Szállás neve": "Hotel Három Hattyú",
                                    "Szoba száma": "10",
                                    "Foglalasaok száma": "4"
                                },
                                {
                                    "Szállás neve": "Kentaur Hotel",
                                    "Szoba száma": "10",
                                    "Foglalasaok száma": "7"
                                },
                                {
                                    "Szállás neve": "Lagúna Hotel",
                                    "Szoba száma": "10",
                                    "Foglalasaok száma": "5"
                                },
                                {
                                    "Szállás neve": "Sába-Ház",
                                    "Szoba száma": "10",
                                    "Foglalasaok száma": "4"
                                },
                                {
                                    "Szállás neve": "Fortuna panzió",
                                    "Szoba száma": "11",
                                    "Foglalasaok száma": "9"
                                },
                                {
                                    "Szállás neve": "Gold Hotel",
                                    "Szoba száma": "11",
                                    "Foglalasaok száma": "5"
                                },
                                {
                                    "Szállás neve": "Hotel Három Hattyú",
                                    "Szoba száma": "11",
                                    "Foglalasaok száma": "3"
                                },
                                {
                                    "Szállás neve": "Kentaur Hotel",
                                    "Szoba száma": "11",
                                    "Foglalasaok száma": "1"
                                },
                                {
                                    "Szállás neve": "Lagúna Hotel",
                                    "Szoba száma": "11",
                                    "Foglalasaok száma": "6"
                                },
                                {
                                    "Szállás neve": "Sába-Ház",
                                    "Szoba száma": "11",
                                    "Foglalasaok száma": "4"
                                },
                                {
                                    "Szállás neve": "Fortuna panzió",
                                    "Szoba száma": "12",
                                    "Foglalasaok száma": "6"
                                },
                                {
                                    "Szállás neve": "Gold Hotel",
                                    "Szoba száma": "12",
                                    "Foglalasaok száma": "6"
                                },
                                {
                                    "Szállás neve": "Hotel Három Hattyú",
                                    "Szoba száma": "12",
                                    "Foglalasaok száma": "2"
                                },
                                {
                                    "Szállás neve": "Kentaur Hotel",
                                    "Szoba száma": "12",
                                    "Foglalasaok száma": "5"
                                },
                                {
                                    "Szállás neve": "Lagúna Hotel",
                                    "Szoba száma": "12",
                                    "Foglalasaok száma": "6"
                                },
                                {
                                    "Szállás neve": "Sába-Ház",
                                    "Szoba száma": "12",
                                    "Foglalasaok száma": "9"
                                },
                                {
                                    "Szállás neve": "Fortuna panzió",
                                    "Szoba száma": "13",
                                    "Foglalasaok száma": "3"
                                },
                                {
                                    "Szállás neve": "Gold Hotel",
                                    "Szoba száma": "13",
                                    "Foglalasaok száma": "4"
                                },
                                {
                                    "Szállás neve": "Hotel Három Hattyú",
                                    "Szoba száma": "13",
                                    "Foglalasaok száma": "4"
                                },
                                {
                                    "Szállás neve": "Kentaur Hotel",
                                    "Szoba száma": "13",
                                    "Foglalasaok száma": "5"
                                },
                                {
                                    "Szállás neve": "Lagúna Hotel",
                                    "Szoba száma": "13",
                                    "Foglalasaok száma": "1"
                                },
                                {
                                    "Szállás neve": "Fortuna panzió",
                                    "Szoba száma": "14",
                                    "Foglalasaok száma": "8"
                                },
                                {
                                    "Szállás neve": "Gold Hotel",
                                    "Szoba száma": "14",
                                    "Foglalasaok száma": "4"
                                },
                                {
                                    "Szállás neve": "Hotel Három Hattyú",
                                    "Szoba száma": "14",
                                    "Foglalasaok száma": "4"
                                },
                                {
                                    "Szállás neve": "Kentaur Hotel",
                                    "Szoba száma": "14",
                                    "Foglalasaok száma": "4"
                                },
                                {
                                    "Szállás neve": "Lagúna Hotel",
                                    "Szoba száma": "14",
                                    "Foglalasaok száma": "6"
                                },
                                {
                                    "Szállás neve": "Fortuna panzió",
                                    "Szoba száma": "15",
                                    "Foglalasaok száma": "7"
                                },
                                {
                                    "Szállás neve": "Gold Hotel",
                                    "Szoba száma": "15",
                                    "Foglalasaok száma": "3"
                                },
                                {
                                    "Szállás neve": "Hotel Három Hattyú",
                                    "Szoba száma": "15",
                                    "Foglalasaok száma": "2"
                                },
                                {
                                    "Szállás neve": "Kentaur Hotel",
                                    "Szoba száma": "15",
                                    "Foglalasaok száma": "6"
                                },
                                {
                                    "Szállás neve": "Lagúna Hotel",
                                    "Szoba száma": "15",
                                    "Foglalasaok száma": "7"
                                },
                                {
                                    "Szállás neve": "Gold Hotel",
                                    "Szoba száma": "16",
                                    "Foglalasaok száma": "3"
                                },
                                {
                                    "Szállás neve": "Hotel Három Hattyú",
                                    "Szoba száma": "16",
                                    "Foglalasaok száma": "6"
                                },
                                {
                                    "Szállás neve": "Kentaur Hotel",
                                    "Szoba száma": "16",
                                    "Foglalasaok száma": "1"
                                },
                                {
                                    "Szállás neve": "Lagúna Hotel",
                                    "Szoba száma": "16",
                                    "Foglalasaok száma": "6"
                                },
                                {
                                    "Szállás neve": "Gold Hotel",
                                    "Szoba száma": "17",
                                    "Foglalasaok száma": "6"
                                },
                                {
                                    "Szállás neve": "Hotel Három Hattyú",
                                    "Szoba száma": "17",
                                    "Foglalasaok száma": "5"
                                },
                                {
                                    "Szállás neve": "Kentaur Hotel",
                                    "Szoba száma": "17",
                                    "Foglalasaok száma": "4"
                                },
                                {
                                    "Szállás neve": "Lagúna Hotel",
                                    "Szoba száma": "17",
                                    "Foglalasaok száma": "3"
                                },
                                {
                                    "Szállás neve": "Gold Hotel",
                                    "Szoba száma": "18",
                                    "Foglalasaok száma": "12"
                                },
                                {
                                    "Szállás neve": "Hotel Három Hattyú",
                                    "Szoba száma": "18",
                                    "Foglalasaok száma": "2"
                                },
                                {
                                    "Szállás neve": "Kentaur Hotel",
                                    "Szoba száma": "18",
                                    "Foglalasaok száma": "6"
                                },
                                {
                                    "Szállás neve": "Lagúna Hotel",
                                    "Szoba száma": "18",
                                    "Foglalasaok száma": "4"
                                },
                                {
                                    "Szállás neve": "Gold Hotel",
                                    "Szoba száma": "19",
                                    "Foglalasaok száma": "4"
                                },
                                {
                                    "Szállás neve": "Hotel Három Hattyú",
                                    "Szoba száma": "19",
                                    "Foglalasaok száma": "7"
                                },
                                {
                                    "Szállás neve": "Kentaur Hotel",
                                    "Szoba száma": "19",
                                    "Foglalasaok száma": "3"
                                },
                                {
                                    "Szállás neve": "Lagúna Hotel",
                                    "Szoba száma": "19",
                                    "Foglalasaok száma": "5"
                                },
                                {
                                    "Szállás neve": "Családi Ház",
                                    "Szoba száma": "2",
                                    "Foglalasaok száma": "3"
                                },
                                {
                                    "Szállás neve": "Fortuna Apartman",
                                    "Szoba száma": "2",
                                    "Foglalasaok száma": "6"
                                },
                                {
                                    "Szállás neve": "Fortuna Panzió",
                                    "Szoba száma": "2",
                                    "Foglalasaok száma": "4"
                                },
                                {
                                    "Szállás neve": "Gold Hotel",
                                    "Szoba száma": "2",
                                    "Foglalasaok száma": "3"
                                },
                                {
                                    "Szállás neve": "Hotel Három Hattyú",
                                    "Szoba száma": "2",
                                    "Foglalasaok száma": "6"
                                },
                                {
                                    "Szállás neve": "Jáde panzió",
                                    "Szoba száma": "2",
                                    "Foglalasaok száma": "5"
                                },
                                {
                                    "Szállás neve": "Kentaur Hotel",
                                    "Szoba száma": "2",
                                    "Foglalasaok száma": "5"
                                },
                                {
                                    "Szállás neve": "Lagúna Hotel",
                                    "Szoba száma": "2",
                                    "Foglalasaok száma": "3"
                                },
                                {
                                    "Szállás neve": "Partiszél Vendégház",
                                    "Szoba száma": "2",
                                    "Foglalasaok száma": "6"
                                },
                                {
                                    "Szállás neve": "Sába-Ház",
                                    "Szoba száma": "2",
                                    "Foglalasaok száma": "4"
                                },
                                {
                                    "Szállás neve": "Szieszta Apartmanház",
                                    "Szoba száma": "2",
                                    "Foglalasaok száma": "5"
                                },
                                {
                                    "Szállás neve": "Gold Hotel",
                                    "Szoba száma": "20",
                                    "Foglalasaok száma": "4"
                                },
                                {
                                    "Szállás neve": "Hotel Három Hattyú",
                                    "Szoba száma": "20",
                                    "Foglalasaok száma": "8"
                                },
                                {
                                    "Szállás neve": "Kentaur Hotel",
                                    "Szoba száma": "20",
                                    "Foglalasaok száma": "4"
                                },
                                {
                                    "Szállás neve": "Lagúna Hotel",
                                    "Szoba száma": "20",
                                    "Foglalasaok száma": "5"
                                },
                                {
                                    "Szállás neve": "Gold Hotel",
                                    "Szoba száma": "21",
                                    "Foglalasaok száma": "12"
                                },
                                {
                                    "Szállás neve": "Hotel Három Hattyú",
                                    "Szoba száma": "21",
                                    "Foglalasaok száma": "5"
                                },
                                {
                                    "Szállás neve": "Kentaur Hotel",
                                    "Szoba száma": "21",
                                    "Foglalasaok száma": "11"
                                },
                                {
                                    "Szállás neve": "Lagúna Hotel",
                                    "Szoba száma": "21",
                                    "Foglalasaok száma": "5"
                                },
                                {
                                    "Szállás neve": "Gold Hotel",
                                    "Szoba száma": "22",
                                    "Foglalasaok száma": "4"
                                },
                                {
                                    "Szállás neve": "Hotel Három Hattyú",
                                    "Szoba száma": "22",
                                    "Foglalasaok száma": "5"
                                },
                                {
                                    "Szállás neve": "Kentaur Hotel",
                                    "Szoba száma": "22",
                                    "Foglalasaok száma": "3"
                                },
                                {
                                    "Szállás neve": "Lagúna Hotel",
                                    "Szoba száma": "22",
                                    "Foglalasaok száma": "7"
                                },
                                {
                                    "Szállás neve": "Gold Hotel",
                                    "Szoba száma": "23",
                                    "Foglalasaok száma": "7"
                                },
                                {
                                    "Szállás neve": "Hotel Három Hattyú",
                                    "Szoba száma": "23",
                                    "Foglalasaok száma": "5"
                                },
                                {
                                    "Szállás neve": "Kentaur Hotel",
                                    "Szoba száma": "23",
                                    "Foglalasaok száma": "4"
                                },
                                {
                                    "Szállás neve": "Lagúna Hotel",
                                    "Szoba száma": "23",
                                    "Foglalasaok száma": "5"
                                },
                                {
                                    "Szállás neve": "Gold Hotel",
                                    "Szoba száma": "24",
                                    "Foglalasaok száma": "6"
                                },
                                {
                                    "Szállás neve": "Hotel Három Hattyú",
                                    "Szoba száma": "24",
                                    "Foglalasaok száma": "4"
                                },
                                {
                                    "Szállás neve": "Kentaur Hotel",
                                    "Szoba száma": "24",
                                    "Foglalasaok száma": "4"
                                },
                                {
                                    "Szállás neve": "Lagúna Hotel",
                                    "Szoba száma": "24",
                                    "Foglalasaok száma": "3"
                                },
                                {
                                    "Szállás neve": "Gold Hotel",
                                    "Szoba száma": "25",
                                    "Foglalasaok száma": "5"
                                },
                                {
                                    "Szállás neve": "Hotel Három Hattyú",
                                    "Szoba száma": "25",
                                    "Foglalasaok száma": "7"
                                },
                                {
                                    "Szállás neve": "Kentaur Hotel",
                                    "Szoba száma": "25",
                                    "Foglalasaok száma": "9"
                                },
                                {
                                    "Szállás neve": "Gold Hotel",
                                    "Szoba száma": "26",
                                    "Foglalasaok száma": "5"
                                },
                                {
                                    "Szállás neve": "Hotel Három Hattyú",
                                    "Szoba száma": "26",
                                    "Foglalasaok száma": "2"
                                },
                                {
                                    "Szállás neve": "Kentaur Hotel",
                                    "Szoba száma": "26",
                                    "Foglalasaok száma": "3"
                                },
                                {
                                    "Szállás neve": "Gold Hotel",
                                    "Szoba száma": "27",
                                    "Foglalasaok száma": "5"
                                },
                                {
                                    "Szállás neve": "Hotel Három Hattyú",
                                    "Szoba száma": "27",
                                    "Foglalasaok száma": "8"
                                },
                                {
                                    "Szállás neve": "Kentaur Hotel",
                                    "Szoba száma": "27",
                                    "Foglalasaok száma": "3"
                                },
                                {
                                    "Szállás neve": "Gold Hotel",
                                    "Szoba száma": "28",
                                    "Foglalasaok száma": "2"
                                },
                                {
                                    "Szállás neve": "Hotel Három Hattyú",
                                    "Szoba száma": "28",
                                    "Foglalasaok száma": "7"
                                },
                                {
                                    "Szállás neve": "Kentaur Hotel",
                                    "Szoba száma": "28",
                                    "Foglalasaok száma": "6"
                                },
                                {
                                    "Szállás neve": "Gold Hotel",
                                    "Szoba száma": "29",
                                    "Foglalasaok száma": "7"
                                },
                                {
                                    "Szállás neve": "Hotel Három Hattyú",
                                    "Szoba száma": "29",
                                    "Foglalasaok száma": "5"
                                },
                                {
                                    "Szállás neve": "Kentaur Hotel",
                                    "Szoba száma": "29",
                                    "Foglalasaok száma": "6"
                                },
                                {
                                    "Szállás neve": "Családi Ház",
                                    "Szoba száma": "3",
                                    "Foglalasaok száma": "6"
                                },
                                {
                                    "Szállás neve": "Fortuna Apartman",
                                    "Szoba száma": "3",
                                    "Foglalasaok száma": "6"
                                },
                                {
                                    "Szállás neve": "Fortuna panzió",
                                    "Szoba száma": "3",
                                    "Foglalasaok száma": "13"
                                },
                                {
                                    "Szállás neve": "Gold Hotel",
                                    "Szoba száma": "3",
                                    "Foglalasaok száma": "2"
                                },
                                {
                                    "Szállás neve": "Hotel Három Hattyú",
                                    "Szoba száma": "3",
                                    "Foglalasaok száma": "5"
                                },
                                {
                                    "Szállás neve": "Jáde panzió",
                                    "Szoba száma": "3",
                                    "Foglalasaok száma": "6"
                                },
                                {
                                    "Szállás neve": "Kentaur Hotel",
                                    "Szoba száma": "3",
                                    "Foglalasaok száma": "5"
                                },
                                {
                                    "Szállás neve": "Lagúna Hotel",
                                    "Szoba száma": "3",
                                    "Foglalasaok száma": "6"
                                },
                                {
                                    "Szállás neve": "Partiszél Vendégház",
                                    "Szoba száma": "3",
                                    "Foglalasaok száma": "3"
                                },
                                {
                                    "Szállás neve": "Sába-Ház",
                                    "Szoba száma": "3",
                                    "Foglalasaok száma": "8"
                                },
                                {
                                    "Szállás neve": "Szieszta Apartmanház",
                                    "Szoba száma": "3",
                                    "Foglalasaok száma": "5"
                                },
                                {
                                    "Szállás neve": "Gold Hotel",
                                    "Szoba száma": "30",
                                    "Foglalasaok száma": "1"
                                },
                                {
                                    "Szállás neve": "Hotel Három Hattyú",
                                    "Szoba száma": "30",
                                    "Foglalasaok száma": "6"
                                },
                                {
                                    "Szállás neve": "Kentaur Hotel",
                                    "Szoba száma": "30",
                                    "Foglalasaok száma": "5"
                                },
                                {
                                    "Szállás neve": "Gold Hotel",
                                    "Szoba száma": "31",
                                    "Foglalasaok száma": "6"
                                },
                                {
                                    "Szállás neve": "Hotel Három Hattyú",
                                    "Szoba száma": "31",
                                    "Foglalasaok száma": "8"
                                },
                                {
                                    "Szállás neve": "Kentaur Hotel",
                                    "Szoba száma": "31",
                                    "Foglalasaok száma": "7"
                                },
                                {
                                    "Szállás neve": "Gold Hotel",
                                    "Szoba száma": "32",
                                    "Foglalasaok száma": "4"
                                },
                                {
                                    "Szállás neve": "Hotel Három Hattyú",
                                    "Szoba száma": "32",
                                    "Foglalasaok száma": "9"
                                },
                                {
                                    "Szállás neve": "Kentaur Hotel",
                                    "Szoba száma": "32",
                                    "Foglalasaok száma": "5"
                                },
                                {
                                    "Szállás neve": "Gold Hotel",
                                    "Szoba száma": "33",
                                    "Foglalasaok száma": "6"
                                },
                                {
                                    "Szállás neve": "Hotel Három Hattyú",
                                    "Szoba száma": "33",
                                    "Foglalasaok száma": "5"
                                },
                                {
                                    "Szállás neve": "Kentaur Hotel",
                                    "Szoba száma": "33",
                                    "Foglalasaok száma": "6"
                                },
                                {
                                    "Szállás neve": "Gold Hotel",
                                    "Szoba száma": "34",
                                    "Foglalasaok száma": "8"
                                },
                                {
                                    "Szállás neve": "Hotel Három Hattyú",
                                    "Szoba száma": "34",
                                    "Foglalasaok száma": "6"
                                },
                                {
                                    "Szállás neve": "Kentaur Hotel",
                                    "Szoba száma": "34",
                                    "Foglalasaok száma": "8"
                                },
                                {
                                    "Szállás neve": "Hotel Három Hattyú",
                                    "Szoba száma": "35",
                                    "Foglalasaok száma": "1"
                                },
                                {
                                    "Szállás neve": "Kentaur Hotel",
                                    "Szoba száma": "35",
                                    "Foglalasaok száma": "4"
                                },
                                {
                                    "Szállás neve": "Hotel Három Hattyú",
                                    "Szoba száma": "36",
                                    "Foglalasaok száma": "6"
                                },
                                {
                                    "Szállás neve": "Hotel Három Hattyú",
                                    "Szoba száma": "37",
                                    "Foglalasaok száma": "7"
                                },
                                {
                                    "Szállás neve": "Hotel Három Hattyú",
                                    "Szoba száma": "38",
                                    "Foglalasaok száma": "5"
                                },
                                {
                                    "Szállás neve": "Hotel Három Hattyú",
                                    "Szoba száma": "39",
                                    "Foglalasaok száma": "4"
                                },
                                {
                                    "Szállás neve": "Családi Ház",
                                    "Szoba száma": "4",
                                    "Foglalasaok száma": "5"
                                },
                                {
                                    "Szállás neve": "Fortuna Apartman",
                                    "Szoba száma": "4",
                                    "Foglalasaok száma": "5"
                                },
                                {
                                    "Szállás neve": "Fortuna panzió",
                                    "Szoba száma": "4",
                                    "Foglalasaok száma": "14"
                                },
                                {
                                    "Szállás neve": "Gold Hotel",
                                    "Szoba száma": "4",
                                    "Foglalasaok száma": "5"
                                },
                                {
                                    "Szállás neve": "Hotel Három Hattyú",
                                    "Szoba száma": "4",
                                    "Foglalasaok száma": "10"
                                },
                                {
                                    "Szállás neve": "Jáde panzió",
                                    "Szoba száma": "4",
                                    "Foglalasaok száma": "6"
                                },
                                {
                                    "Szállás neve": "Kentaur Hotel",
                                    "Szoba száma": "4",
                                    "Foglalasaok száma": "2"
                                },
                                {
                                    "Szállás neve": "Lagúna Hotel",
                                    "Szoba száma": "4",
                                    "Foglalasaok száma": "7"
                                },
                                {
                                    "Szállás neve": "Partiszél Vendégház",
                                    "Szoba száma": "4",
                                    "Foglalasaok száma": "7"
                                },
                                {
                                    "Szállás neve": "Sába-Ház",
                                    "Szoba száma": "4",
                                    "Foglalasaok száma": "6"
                                },
                                {
                                    "Szállás neve": "Szieszta Apartmanház",
                                    "Szoba száma": "4",
                                    "Foglalasaok száma": "8"
                                },
                                {
                                    "Szállás neve": "Fortuna Apartman",
                                    "Szoba száma": "5",
                                    "Foglalasaok száma": "4"
                                },
                                {
                                    "Szállás neve": "Fortuna panzió",
                                    "Szoba száma": "5",
                                    "Foglalasaok száma": "12"
                                },
                                {
                                    "Szállás neve": "Gold Hotel",
                                    "Szoba száma": "5",
                                    "Foglalasaok száma": "6"
                                },
                                {
                                    "Szállás neve": "Hotel Három Hattyú",
                                    "Szoba száma": "5",
                                    "Foglalasaok száma": "4"
                                },
                                {
                                    "Szállás neve": "Jáde panzió",
                                    "Szoba száma": "5",
                                    "Foglalasaok száma": "6"
                                },
                                {
                                    "Szállás neve": "Kentaur Hotel",
                                    "Szoba száma": "5",
                                    "Foglalasaok száma": "6"
                                },
                                {
                                    "Szállás neve": "Lagúna Hotel",
                                    "Szoba száma": "5",
                                    "Foglalasaok száma": "7"
                                },
                                {
                                    "Szállás neve": "Partiszél Vendégház",
                                    "Szoba száma": "5",
                                    "Foglalasaok száma": "5"
                                },
                                {
                                    "Szállás neve": "Sába-Ház",
                                    "Szoba száma": "5",
                                    "Foglalasaok száma": "4"
                                },
                                {
                                    "Szállás neve": "Szieszta Apartmanház",
                                    "Szoba száma": "5",
                                    "Foglalasaok száma": "8"
                                },
                                {
                                    "Szállás neve": "Fortuna Apartman",
                                    "Szoba száma": "6",
                                    "Foglalasaok száma": "6"
                                },
                                {
                                    "Szállás neve": "Fortuna Panzió",
                                    "Szoba száma": "6",
                                    "Foglalasaok száma": "8"
                                },
                                {
                                    "Szállás neve": "Gold Hotel",
                                    "Szoba száma": "6",
                                    "Foglalasaok száma": "5"
                                },
                                {
                                    "Szállás neve": "Hotel Három Hattyú",
                                    "Szoba száma": "6",
                                    "Foglalasaok száma": "7"
                                },
                                {
                                    "Szállás neve": "Kentaur Hotel",
                                    "Szoba száma": "6",
                                    "Foglalasaok száma": "8"
                                },
                                {
                                    "Szállás neve": "Lagúna Hotel",
                                    "Szoba száma": "6",
                                    "Foglalasaok száma": "8"
                                },
                                {
                                    "Szállás neve": "Sába-Ház",
                                    "Szoba száma": "6",
                                    "Foglalasaok száma": "6"
                                },
                                {
                                    "Szállás neve": "Szieszta Apartmanház",
                                    "Szoba száma": "6",
                                    "Foglalasaok száma": "4"
                                },
                                {
                                    "Szállás neve": "Fortuna Apartman",
                                    "Szoba száma": "7",
                                    "Foglalasaok száma": "3"
                                },
                                {
                                    "Szállás neve": "Fortuna panzió",
                                    "Szoba száma": "7",
                                    "Foglalasaok száma": "7"
                                },
                                {
                                    "Szállás neve": "Gold Hotel",
                                    "Szoba száma": "7",
                                    "Foglalasaok száma": "5"
                                },
                                {
                                    "Szállás neve": "Hotel Három Hattyú",
                                    "Szoba száma": "7",
                                    "Foglalasaok száma": "7"
                                },
                                {
                                    "Szállás neve": "Kentaur Hotel",
                                    "Szoba száma": "7",
                                    "Foglalasaok száma": "2"
                                },
                                {
                                    "Szállás neve": "Lagúna Hotel",
                                    "Szoba száma": "7",
                                    "Foglalasaok száma": "6"
                                },
                                {
                                    "Szállás neve": "Sába-Ház",
                                    "Szoba száma": "7",
                                    "Foglalasaok száma": "6"
                                },
                                {
                                    "Szállás neve": "Fortuna Apartman",
                                    "Szoba száma": "8",
                                    "Foglalasaok száma": "3"
                                },
                                {
                                    "Szállás neve": "Fortuna panzió",
                                    "Szoba száma": "8",
                                    "Foglalasaok száma": "3"
                                },
                                {
                                    "Szállás neve": "Gold Hotel",
                                    "Szoba száma": "8",
                                    "Foglalasaok száma": "9"
                                },
                                {
                                    "Szállás neve": "Hotel Három Hattyú",
                                    "Szoba száma": "8",
                                    "Foglalasaok száma": "4"
                                },
                                {
                                    "Szállás neve": "Kentaur Hotel",
                                    "Szoba száma": "8",
                                    "Foglalasaok száma": "4"
                                },
                                {
                                    "Szállás neve": "Lagúna Hotel",
                                    "Szoba száma": "8",
                                    "Foglalasaok száma": "2"
                                },
                                {
                                    "Szállás neve": "Sába-Ház",
                                    "Szoba száma": "8",
                                    "Foglalasaok száma": "5"
                                },
                                {
                                    "Szállás neve": "Fortuna Panzió",
                                    "Szoba száma": "9",
                                    "Foglalasaok száma": "15"
                                },
                                {
                                    "Szállás neve": "Gold Hotel",
                                    "Szoba száma": "9",
                                    "Foglalasaok száma": "4"
                                },
                                {
                                    "Szállás neve": "Hotel Három Hattyú",
                                    "Szoba száma": "9",
                                    "Foglalasaok száma": "5"
                                },
                                {
                                    "Szállás neve": "Kentaur Hotel",
                                    "Szoba száma": "9",
                                    "Foglalasaok száma": "13"
                                },
                                {
                                    "Szállás neve": "Lagúna Hotel",
                                    "Szoba száma": "9",
                                    "Foglalasaok száma": "7"
                                },
                                {
                                    "Szállás neve": "Sába-Ház",
                                    "Szoba száma": "9",
                                    "Foglalasaok száma": "6"
                                }
                            ]
                        },
                        "text/html": [
                            "<table>",
                            "<tr><th>Szállás neve</th><th>Szoba száma</th><th>Foglalasaok száma</th></tr>",
                            "<tr><td>Családi Ház</td><td>1</td><td>4</td></tr>",
                            "<tr><td>Fortuna Apartman</td><td>1</td><td>6</td></tr>",
                            "<tr><td>Fortuna Panzió</td><td>1</td><td>6</td></tr>",
                            "<tr><td>Gold Hotel</td><td>1</td><td>7</td></tr>",
                            "<tr><td>Hotel Három Hattyú</td><td>1</td><td>4</td></tr>",
                            "<tr><td>Jáde panzió</td><td>1</td><td>6</td></tr>",
                            "<tr><td>Kentaur Hotel</td><td>1</td><td>4</td></tr>",
                            "<tr><td>Lagúna Hotel</td><td>1</td><td>3</td></tr>",
                            "<tr><td>Partiszél Vendégház</td><td>1</td><td>5</td></tr>",
                            "<tr><td>Sába-Ház</td><td>1</td><td>8</td></tr>",
                            "<tr><td>Szieszta Apartmanház</td><td>1</td><td>4</td></tr>",
                            "<tr><td>Fortuna Panzió</td><td>10</td><td>11</td></tr>",
                            "<tr><td>Gold Hotel</td><td>10</td><td>4</td></tr>",
                            "<tr><td>Hotel Három Hattyú</td><td>10</td><td>4</td></tr>",
                            "<tr><td>Kentaur Hotel</td><td>10</td><td>7</td></tr>",
                            "<tr><td>Lagúna Hotel</td><td>10</td><td>5</td></tr>",
                            "<tr><td>Sába-Ház</td><td>10</td><td>4</td></tr>",
                            "<tr><td>Fortuna panzió</td><td>11</td><td>9</td></tr>",
                            "<tr><td>Gold Hotel</td><td>11</td><td>5</td></tr>",
                            "<tr><td>Hotel Három Hattyú</td><td>11</td><td>3</td></tr>",
                            "<tr><td>Kentaur Hotel</td><td>11</td><td>1</td></tr>",
                            "<tr><td>Lagúna Hotel</td><td>11</td><td>6</td></tr>",
                            "<tr><td>Sába-Ház</td><td>11</td><td>4</td></tr>",
                            "<tr><td>Fortuna panzió</td><td>12</td><td>6</td></tr>",
                            "<tr><td>Gold Hotel</td><td>12</td><td>6</td></tr>",
                            "<tr><td>Hotel Három Hattyú</td><td>12</td><td>2</td></tr>",
                            "<tr><td>Kentaur Hotel</td><td>12</td><td>5</td></tr>",
                            "<tr><td>Lagúna Hotel</td><td>12</td><td>6</td></tr>",
                            "<tr><td>Sába-Ház</td><td>12</td><td>9</td></tr>",
                            "<tr><td>Fortuna panzió</td><td>13</td><td>3</td></tr>",
                            "<tr><td>Gold Hotel</td><td>13</td><td>4</td></tr>",
                            "<tr><td>Hotel Három Hattyú</td><td>13</td><td>4</td></tr>",
                            "<tr><td>Kentaur Hotel</td><td>13</td><td>5</td></tr>",
                            "<tr><td>Lagúna Hotel</td><td>13</td><td>1</td></tr>",
                            "<tr><td>Fortuna panzió</td><td>14</td><td>8</td></tr>",
                            "<tr><td>Gold Hotel</td><td>14</td><td>4</td></tr>",
                            "<tr><td>Hotel Három Hattyú</td><td>14</td><td>4</td></tr>",
                            "<tr><td>Kentaur Hotel</td><td>14</td><td>4</td></tr>",
                            "<tr><td>Lagúna Hotel</td><td>14</td><td>6</td></tr>",
                            "<tr><td>Fortuna panzió</td><td>15</td><td>7</td></tr>",
                            "<tr><td>Gold Hotel</td><td>15</td><td>3</td></tr>",
                            "<tr><td>Hotel Három Hattyú</td><td>15</td><td>2</td></tr>",
                            "<tr><td>Kentaur Hotel</td><td>15</td><td>6</td></tr>",
                            "<tr><td>Lagúna Hotel</td><td>15</td><td>7</td></tr>",
                            "<tr><td>Gold Hotel</td><td>16</td><td>3</td></tr>",
                            "<tr><td>Hotel Három Hattyú</td><td>16</td><td>6</td></tr>",
                            "<tr><td>Kentaur Hotel</td><td>16</td><td>1</td></tr>",
                            "<tr><td>Lagúna Hotel</td><td>16</td><td>6</td></tr>",
                            "<tr><td>Gold Hotel</td><td>17</td><td>6</td></tr>",
                            "<tr><td>Hotel Három Hattyú</td><td>17</td><td>5</td></tr>",
                            "<tr><td>Kentaur Hotel</td><td>17</td><td>4</td></tr>",
                            "<tr><td>Lagúna Hotel</td><td>17</td><td>3</td></tr>",
                            "<tr><td>Gold Hotel</td><td>18</td><td>12</td></tr>",
                            "<tr><td>Hotel Három Hattyú</td><td>18</td><td>2</td></tr>",
                            "<tr><td>Kentaur Hotel</td><td>18</td><td>6</td></tr>",
                            "<tr><td>Lagúna Hotel</td><td>18</td><td>4</td></tr>",
                            "<tr><td>Gold Hotel</td><td>19</td><td>4</td></tr>",
                            "<tr><td>Hotel Három Hattyú</td><td>19</td><td>7</td></tr>",
                            "<tr><td>Kentaur Hotel</td><td>19</td><td>3</td></tr>",
                            "<tr><td>Lagúna Hotel</td><td>19</td><td>5</td></tr>",
                            "<tr><td>Családi Ház</td><td>2</td><td>3</td></tr>",
                            "<tr><td>Fortuna Apartman</td><td>2</td><td>6</td></tr>",
                            "<tr><td>Fortuna Panzió</td><td>2</td><td>4</td></tr>",
                            "<tr><td>Gold Hotel</td><td>2</td><td>3</td></tr>",
                            "<tr><td>Hotel Három Hattyú</td><td>2</td><td>6</td></tr>",
                            "<tr><td>Jáde panzió</td><td>2</td><td>5</td></tr>",
                            "<tr><td>Kentaur Hotel</td><td>2</td><td>5</td></tr>",
                            "<tr><td>Lagúna Hotel</td><td>2</td><td>3</td></tr>",
                            "<tr><td>Partiszél Vendégház</td><td>2</td><td>6</td></tr>",
                            "<tr><td>Sába-Ház</td><td>2</td><td>4</td></tr>",
                            "<tr><td>Szieszta Apartmanház</td><td>2</td><td>5</td></tr>",
                            "<tr><td>Gold Hotel</td><td>20</td><td>4</td></tr>",
                            "<tr><td>Hotel Három Hattyú</td><td>20</td><td>8</td></tr>",
                            "<tr><td>Kentaur Hotel</td><td>20</td><td>4</td></tr>",
                            "<tr><td>Lagúna Hotel</td><td>20</td><td>5</td></tr>",
                            "<tr><td>Gold Hotel</td><td>21</td><td>12</td></tr>",
                            "<tr><td>Hotel Három Hattyú</td><td>21</td><td>5</td></tr>",
                            "<tr><td>Kentaur Hotel</td><td>21</td><td>11</td></tr>",
                            "<tr><td>Lagúna Hotel</td><td>21</td><td>5</td></tr>",
                            "<tr><td>Gold Hotel</td><td>22</td><td>4</td></tr>",
                            "<tr><td>Hotel Három Hattyú</td><td>22</td><td>5</td></tr>",
                            "<tr><td>Kentaur Hotel</td><td>22</td><td>3</td></tr>",
                            "<tr><td>Lagúna Hotel</td><td>22</td><td>7</td></tr>",
                            "<tr><td>Gold Hotel</td><td>23</td><td>7</td></tr>",
                            "<tr><td>Hotel Három Hattyú</td><td>23</td><td>5</td></tr>",
                            "<tr><td>Kentaur Hotel</td><td>23</td><td>4</td></tr>",
                            "<tr><td>Lagúna Hotel</td><td>23</td><td>5</td></tr>",
                            "<tr><td>Gold Hotel</td><td>24</td><td>6</td></tr>",
                            "<tr><td>Hotel Három Hattyú</td><td>24</td><td>4</td></tr>",
                            "<tr><td>Kentaur Hotel</td><td>24</td><td>4</td></tr>",
                            "<tr><td>Lagúna Hotel</td><td>24</td><td>3</td></tr>",
                            "<tr><td>Gold Hotel</td><td>25</td><td>5</td></tr>",
                            "<tr><td>Hotel Három Hattyú</td><td>25</td><td>7</td></tr>",
                            "<tr><td>Kentaur Hotel</td><td>25</td><td>9</td></tr>",
                            "<tr><td>Gold Hotel</td><td>26</td><td>5</td></tr>",
                            "<tr><td>Hotel Három Hattyú</td><td>26</td><td>2</td></tr>",
                            "<tr><td>Kentaur Hotel</td><td>26</td><td>3</td></tr>",
                            "<tr><td>Gold Hotel</td><td>27</td><td>5</td></tr>",
                            "<tr><td>Hotel Három Hattyú</td><td>27</td><td>8</td></tr>",
                            "<tr><td>Kentaur Hotel</td><td>27</td><td>3</td></tr>",
                            "<tr><td>Gold Hotel</td><td>28</td><td>2</td></tr>",
                            "<tr><td>Hotel Három Hattyú</td><td>28</td><td>7</td></tr>",
                            "<tr><td>Kentaur Hotel</td><td>28</td><td>6</td></tr>",
                            "<tr><td>Gold Hotel</td><td>29</td><td>7</td></tr>",
                            "<tr><td>Hotel Három Hattyú</td><td>29</td><td>5</td></tr>",
                            "<tr><td>Kentaur Hotel</td><td>29</td><td>6</td></tr>",
                            "<tr><td>Családi Ház</td><td>3</td><td>6</td></tr>",
                            "<tr><td>Fortuna Apartman</td><td>3</td><td>6</td></tr>",
                            "<tr><td>Fortuna panzió</td><td>3</td><td>13</td></tr>",
                            "<tr><td>Gold Hotel</td><td>3</td><td>2</td></tr>",
                            "<tr><td>Hotel Három Hattyú</td><td>3</td><td>5</td></tr>",
                            "<tr><td>Jáde panzió</td><td>3</td><td>6</td></tr>",
                            "<tr><td>Kentaur Hotel</td><td>3</td><td>5</td></tr>",
                            "<tr><td>Lagúna Hotel</td><td>3</td><td>6</td></tr>",
                            "<tr><td>Partiszél Vendégház</td><td>3</td><td>3</td></tr>",
                            "<tr><td>Sába-Ház</td><td>3</td><td>8</td></tr>",
                            "<tr><td>Szieszta Apartmanház</td><td>3</td><td>5</td></tr>",
                            "<tr><td>Gold Hotel</td><td>30</td><td>1</td></tr>",
                            "<tr><td>Hotel Három Hattyú</td><td>30</td><td>6</td></tr>",
                            "<tr><td>Kentaur Hotel</td><td>30</td><td>5</td></tr>",
                            "<tr><td>Gold Hotel</td><td>31</td><td>6</td></tr>",
                            "<tr><td>Hotel Három Hattyú</td><td>31</td><td>8</td></tr>",
                            "<tr><td>Kentaur Hotel</td><td>31</td><td>7</td></tr>",
                            "<tr><td>Gold Hotel</td><td>32</td><td>4</td></tr>",
                            "<tr><td>Hotel Három Hattyú</td><td>32</td><td>9</td></tr>",
                            "<tr><td>Kentaur Hotel</td><td>32</td><td>5</td></tr>",
                            "<tr><td>Gold Hotel</td><td>33</td><td>6</td></tr>",
                            "<tr><td>Hotel Három Hattyú</td><td>33</td><td>5</td></tr>",
                            "<tr><td>Kentaur Hotel</td><td>33</td><td>6</td></tr>",
                            "<tr><td>Gold Hotel</td><td>34</td><td>8</td></tr>",
                            "<tr><td>Hotel Három Hattyú</td><td>34</td><td>6</td></tr>",
                            "<tr><td>Kentaur Hotel</td><td>34</td><td>8</td></tr>",
                            "<tr><td>Hotel Három Hattyú</td><td>35</td><td>1</td></tr>",
                            "<tr><td>Kentaur Hotel</td><td>35</td><td>4</td></tr>",
                            "<tr><td>Hotel Három Hattyú</td><td>36</td><td>6</td></tr>",
                            "<tr><td>Hotel Három Hattyú</td><td>37</td><td>7</td></tr>",
                            "<tr><td>Hotel Három Hattyú</td><td>38</td><td>5</td></tr>",
                            "<tr><td>Hotel Három Hattyú</td><td>39</td><td>4</td></tr>",
                            "<tr><td>Családi Ház</td><td>4</td><td>5</td></tr>",
                            "<tr><td>Fortuna Apartman</td><td>4</td><td>5</td></tr>",
                            "<tr><td>Fortuna panzió</td><td>4</td><td>14</td></tr>",
                            "<tr><td>Gold Hotel</td><td>4</td><td>5</td></tr>",
                            "<tr><td>Hotel Három Hattyú</td><td>4</td><td>10</td></tr>",
                            "<tr><td>Jáde panzió</td><td>4</td><td>6</td></tr>",
                            "<tr><td>Kentaur Hotel</td><td>4</td><td>2</td></tr>",
                            "<tr><td>Lagúna Hotel</td><td>4</td><td>7</td></tr>",
                            "<tr><td>Partiszél Vendégház</td><td>4</td><td>7</td></tr>",
                            "<tr><td>Sába-Ház</td><td>4</td><td>6</td></tr>",
                            "<tr><td>Szieszta Apartmanház</td><td>4</td><td>8</td></tr>",
                            "<tr><td>Fortuna Apartman</td><td>5</td><td>4</td></tr>",
                            "<tr><td>Fortuna panzió</td><td>5</td><td>12</td></tr>",
                            "<tr><td>Gold Hotel</td><td>5</td><td>6</td></tr>",
                            "<tr><td>Hotel Három Hattyú</td><td>5</td><td>4</td></tr>",
                            "<tr><td>Jáde panzió</td><td>5</td><td>6</td></tr>",
                            "<tr><td>Kentaur Hotel</td><td>5</td><td>6</td></tr>",
                            "<tr><td>Lagúna Hotel</td><td>5</td><td>7</td></tr>",
                            "<tr><td>Partiszél Vendégház</td><td>5</td><td>5</td></tr>",
                            "<tr><td>Sába-Ház</td><td>5</td><td>4</td></tr>",
                            "<tr><td>Szieszta Apartmanház</td><td>5</td><td>8</td></tr>",
                            "<tr><td>Fortuna Apartman</td><td>6</td><td>6</td></tr>",
                            "<tr><td>Fortuna Panzió</td><td>6</td><td>8</td></tr>",
                            "<tr><td>Gold Hotel</td><td>6</td><td>5</td></tr>",
                            "<tr><td>Hotel Három Hattyú</td><td>6</td><td>7</td></tr>",
                            "<tr><td>Kentaur Hotel</td><td>6</td><td>8</td></tr>",
                            "<tr><td>Lagúna Hotel</td><td>6</td><td>8</td></tr>",
                            "<tr><td>Sába-Ház</td><td>6</td><td>6</td></tr>",
                            "<tr><td>Szieszta Apartmanház</td><td>6</td><td>4</td></tr>",
                            "<tr><td>Fortuna Apartman</td><td>7</td><td>3</td></tr>",
                            "<tr><td>Fortuna panzió</td><td>7</td><td>7</td></tr>",
                            "<tr><td>Gold Hotel</td><td>7</td><td>5</td></tr>",
                            "<tr><td>Hotel Három Hattyú</td><td>7</td><td>7</td></tr>",
                            "<tr><td>Kentaur Hotel</td><td>7</td><td>2</td></tr>",
                            "<tr><td>Lagúna Hotel</td><td>7</td><td>6</td></tr>",
                            "<tr><td>Sába-Ház</td><td>7</td><td>6</td></tr>",
                            "<tr><td>Fortuna Apartman</td><td>8</td><td>3</td></tr>",
                            "<tr><td>Fortuna panzió</td><td>8</td><td>3</td></tr>",
                            "<tr><td>Gold Hotel</td><td>8</td><td>9</td></tr>",
                            "<tr><td>Hotel Három Hattyú</td><td>8</td><td>4</td></tr>",
                            "<tr><td>Kentaur Hotel</td><td>8</td><td>4</td></tr>",
                            "<tr><td>Lagúna Hotel</td><td>8</td><td>2</td></tr>",
                            "<tr><td>Sába-Ház</td><td>8</td><td>5</td></tr>",
                            "<tr><td>Fortuna Panzió</td><td>9</td><td>15</td></tr>",
                            "<tr><td>Gold Hotel</td><td>9</td><td>4</td></tr>",
                            "<tr><td>Hotel Három Hattyú</td><td>9</td><td>5</td></tr>",
                            "<tr><td>Kentaur Hotel</td><td>9</td><td>13</td></tr>",
                            "<tr><td>Lagúna Hotel</td><td>9</td><td>7</td></tr>",
                            "<tr><td>Sába-Ház</td><td>9</td><td>6</td></tr>",
                            "</table>"
                        ]
                    }
                }
            ],
            "execution_count": 24
        }
    ]
}